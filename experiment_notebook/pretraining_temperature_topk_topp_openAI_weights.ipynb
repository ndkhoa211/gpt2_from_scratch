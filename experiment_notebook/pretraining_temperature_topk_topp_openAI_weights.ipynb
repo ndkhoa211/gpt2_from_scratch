{
  "nbformat": 4,
  "nbformat_minor": 0,
  "metadata": {
    "colab": {
      "provenance": [],
      "machine_shape": "hm",
      "gpuType": "T4"
    },
    "kernelspec": {
      "name": "python3",
      "display_name": "Python 3"
    },
    "language_info": {
      "name": "python"
    },
    "accelerator": "GPU"
  },
  "cells": [
    {
      "cell_type": "code",
      "execution_count": 49,
      "metadata": {
        "id": "Mg5Qe7UvWbXw"
      },
      "outputs": [],
      "source": [
        "import time\n",
        "notebook_start_time = time.time()"
      ]
    },
    {
      "cell_type": "code",
      "source": [
        "# from google.colab import files\n",
        "# uploaded = files.upload()"
      ],
      "metadata": {
        "id": "zI1PlAAFX0iZ"
      },
      "execution_count": 50,
      "outputs": []
    },
    {
      "cell_type": "markdown",
      "source": [
        "# Pretrain on Unlabled Data"
      ],
      "metadata": {
        "id": "MXE6No3lWw_v"
      }
    },
    {
      "cell_type": "markdown",
      "source": [
        "## Evaluating Generative Text Models"
      ],
      "metadata": {
        "id": "OyJRHCpE9XFq"
      }
    },
    {
      "cell_type": "code",
      "source": [
        "import torch\n",
        "from ch04 import GPT2Model\n",
        "\n",
        "GPT_CONFIG_124M = {\n",
        "    \"vocab_size\": 50257,    # Vocabulary size\n",
        "    \"context_length\": 256,  # Shortened context length (orig: 1024)\n",
        "    \"emb_dim\": 768,         # Embedding dimension\n",
        "    \"n_heads\": 12,          # Number of attention heads\n",
        "    \"n_layers\": 12,         # Number of layers\n",
        "    \"drop_rate\": 0.1,       # Dropout rate\n",
        "    \"qkv_bias\": False       # Query-Key-Value bias\n",
        "}\n",
        "torch.manual_seed(211)\n",
        "model = GPT2Model(GPT_CONFIG_124M)\n",
        "model.eval()"
      ],
      "metadata": {
        "colab": {
          "base_uri": "https://localhost:8080/"
        },
        "id": "1XOTLL9LW3yL",
        "outputId": "5c95888e-9029-420a-803f-12763a0846cf"
      },
      "execution_count": 51,
      "outputs": [
        {
          "output_type": "execute_result",
          "data": {
            "text/plain": [
              "GPT2Model(\n",
              "  (token_emb): Embedding(50257, 768)\n",
              "  (position_emb): Embedding(256, 768)\n",
              "  (drop_emb): Dropout(p=0.1, inplace=False)\n",
              "  (transformer_blocks): Sequential(\n",
              "    (0): TransformerBlock(\n",
              "      (attention): MultiHeadAttention(\n",
              "        (W_query): Linear(in_features=768, out_features=768, bias=False)\n",
              "        (W_key): Linear(in_features=768, out_features=768, bias=False)\n",
              "        (W_value): Linear(in_features=768, out_features=768, bias=False)\n",
              "        (output_projection): Linear(in_features=768, out_features=768, bias=True)\n",
              "        (dropout): Dropout(p=0.1, inplace=False)\n",
              "      )\n",
              "      (feed_forward): FeedForward(\n",
              "        (layers): Sequential(\n",
              "          (0): Linear(in_features=768, out_features=3072, bias=True)\n",
              "          (1): GELU()\n",
              "          (2): Linear(in_features=3072, out_features=768, bias=True)\n",
              "        )\n",
              "      )\n",
              "      (layer_norm1): LayerNorm()\n",
              "      (layer_norm2): LayerNorm()\n",
              "      (drop_skip): Dropout(p=0.1, inplace=False)\n",
              "    )\n",
              "    (1): TransformerBlock(\n",
              "      (attention): MultiHeadAttention(\n",
              "        (W_query): Linear(in_features=768, out_features=768, bias=False)\n",
              "        (W_key): Linear(in_features=768, out_features=768, bias=False)\n",
              "        (W_value): Linear(in_features=768, out_features=768, bias=False)\n",
              "        (output_projection): Linear(in_features=768, out_features=768, bias=True)\n",
              "        (dropout): Dropout(p=0.1, inplace=False)\n",
              "      )\n",
              "      (feed_forward): FeedForward(\n",
              "        (layers): Sequential(\n",
              "          (0): Linear(in_features=768, out_features=3072, bias=True)\n",
              "          (1): GELU()\n",
              "          (2): Linear(in_features=3072, out_features=768, bias=True)\n",
              "        )\n",
              "      )\n",
              "      (layer_norm1): LayerNorm()\n",
              "      (layer_norm2): LayerNorm()\n",
              "      (drop_skip): Dropout(p=0.1, inplace=False)\n",
              "    )\n",
              "    (2): TransformerBlock(\n",
              "      (attention): MultiHeadAttention(\n",
              "        (W_query): Linear(in_features=768, out_features=768, bias=False)\n",
              "        (W_key): Linear(in_features=768, out_features=768, bias=False)\n",
              "        (W_value): Linear(in_features=768, out_features=768, bias=False)\n",
              "        (output_projection): Linear(in_features=768, out_features=768, bias=True)\n",
              "        (dropout): Dropout(p=0.1, inplace=False)\n",
              "      )\n",
              "      (feed_forward): FeedForward(\n",
              "        (layers): Sequential(\n",
              "          (0): Linear(in_features=768, out_features=3072, bias=True)\n",
              "          (1): GELU()\n",
              "          (2): Linear(in_features=3072, out_features=768, bias=True)\n",
              "        )\n",
              "      )\n",
              "      (layer_norm1): LayerNorm()\n",
              "      (layer_norm2): LayerNorm()\n",
              "      (drop_skip): Dropout(p=0.1, inplace=False)\n",
              "    )\n",
              "    (3): TransformerBlock(\n",
              "      (attention): MultiHeadAttention(\n",
              "        (W_query): Linear(in_features=768, out_features=768, bias=False)\n",
              "        (W_key): Linear(in_features=768, out_features=768, bias=False)\n",
              "        (W_value): Linear(in_features=768, out_features=768, bias=False)\n",
              "        (output_projection): Linear(in_features=768, out_features=768, bias=True)\n",
              "        (dropout): Dropout(p=0.1, inplace=False)\n",
              "      )\n",
              "      (feed_forward): FeedForward(\n",
              "        (layers): Sequential(\n",
              "          (0): Linear(in_features=768, out_features=3072, bias=True)\n",
              "          (1): GELU()\n",
              "          (2): Linear(in_features=3072, out_features=768, bias=True)\n",
              "        )\n",
              "      )\n",
              "      (layer_norm1): LayerNorm()\n",
              "      (layer_norm2): LayerNorm()\n",
              "      (drop_skip): Dropout(p=0.1, inplace=False)\n",
              "    )\n",
              "    (4): TransformerBlock(\n",
              "      (attention): MultiHeadAttention(\n",
              "        (W_query): Linear(in_features=768, out_features=768, bias=False)\n",
              "        (W_key): Linear(in_features=768, out_features=768, bias=False)\n",
              "        (W_value): Linear(in_features=768, out_features=768, bias=False)\n",
              "        (output_projection): Linear(in_features=768, out_features=768, bias=True)\n",
              "        (dropout): Dropout(p=0.1, inplace=False)\n",
              "      )\n",
              "      (feed_forward): FeedForward(\n",
              "        (layers): Sequential(\n",
              "          (0): Linear(in_features=768, out_features=3072, bias=True)\n",
              "          (1): GELU()\n",
              "          (2): Linear(in_features=3072, out_features=768, bias=True)\n",
              "        )\n",
              "      )\n",
              "      (layer_norm1): LayerNorm()\n",
              "      (layer_norm2): LayerNorm()\n",
              "      (drop_skip): Dropout(p=0.1, inplace=False)\n",
              "    )\n",
              "    (5): TransformerBlock(\n",
              "      (attention): MultiHeadAttention(\n",
              "        (W_query): Linear(in_features=768, out_features=768, bias=False)\n",
              "        (W_key): Linear(in_features=768, out_features=768, bias=False)\n",
              "        (W_value): Linear(in_features=768, out_features=768, bias=False)\n",
              "        (output_projection): Linear(in_features=768, out_features=768, bias=True)\n",
              "        (dropout): Dropout(p=0.1, inplace=False)\n",
              "      )\n",
              "      (feed_forward): FeedForward(\n",
              "        (layers): Sequential(\n",
              "          (0): Linear(in_features=768, out_features=3072, bias=True)\n",
              "          (1): GELU()\n",
              "          (2): Linear(in_features=3072, out_features=768, bias=True)\n",
              "        )\n",
              "      )\n",
              "      (layer_norm1): LayerNorm()\n",
              "      (layer_norm2): LayerNorm()\n",
              "      (drop_skip): Dropout(p=0.1, inplace=False)\n",
              "    )\n",
              "    (6): TransformerBlock(\n",
              "      (attention): MultiHeadAttention(\n",
              "        (W_query): Linear(in_features=768, out_features=768, bias=False)\n",
              "        (W_key): Linear(in_features=768, out_features=768, bias=False)\n",
              "        (W_value): Linear(in_features=768, out_features=768, bias=False)\n",
              "        (output_projection): Linear(in_features=768, out_features=768, bias=True)\n",
              "        (dropout): Dropout(p=0.1, inplace=False)\n",
              "      )\n",
              "      (feed_forward): FeedForward(\n",
              "        (layers): Sequential(\n",
              "          (0): Linear(in_features=768, out_features=3072, bias=True)\n",
              "          (1): GELU()\n",
              "          (2): Linear(in_features=3072, out_features=768, bias=True)\n",
              "        )\n",
              "      )\n",
              "      (layer_norm1): LayerNorm()\n",
              "      (layer_norm2): LayerNorm()\n",
              "      (drop_skip): Dropout(p=0.1, inplace=False)\n",
              "    )\n",
              "    (7): TransformerBlock(\n",
              "      (attention): MultiHeadAttention(\n",
              "        (W_query): Linear(in_features=768, out_features=768, bias=False)\n",
              "        (W_key): Linear(in_features=768, out_features=768, bias=False)\n",
              "        (W_value): Linear(in_features=768, out_features=768, bias=False)\n",
              "        (output_projection): Linear(in_features=768, out_features=768, bias=True)\n",
              "        (dropout): Dropout(p=0.1, inplace=False)\n",
              "      )\n",
              "      (feed_forward): FeedForward(\n",
              "        (layers): Sequential(\n",
              "          (0): Linear(in_features=768, out_features=3072, bias=True)\n",
              "          (1): GELU()\n",
              "          (2): Linear(in_features=3072, out_features=768, bias=True)\n",
              "        )\n",
              "      )\n",
              "      (layer_norm1): LayerNorm()\n",
              "      (layer_norm2): LayerNorm()\n",
              "      (drop_skip): Dropout(p=0.1, inplace=False)\n",
              "    )\n",
              "    (8): TransformerBlock(\n",
              "      (attention): MultiHeadAttention(\n",
              "        (W_query): Linear(in_features=768, out_features=768, bias=False)\n",
              "        (W_key): Linear(in_features=768, out_features=768, bias=False)\n",
              "        (W_value): Linear(in_features=768, out_features=768, bias=False)\n",
              "        (output_projection): Linear(in_features=768, out_features=768, bias=True)\n",
              "        (dropout): Dropout(p=0.1, inplace=False)\n",
              "      )\n",
              "      (feed_forward): FeedForward(\n",
              "        (layers): Sequential(\n",
              "          (0): Linear(in_features=768, out_features=3072, bias=True)\n",
              "          (1): GELU()\n",
              "          (2): Linear(in_features=3072, out_features=768, bias=True)\n",
              "        )\n",
              "      )\n",
              "      (layer_norm1): LayerNorm()\n",
              "      (layer_norm2): LayerNorm()\n",
              "      (drop_skip): Dropout(p=0.1, inplace=False)\n",
              "    )\n",
              "    (9): TransformerBlock(\n",
              "      (attention): MultiHeadAttention(\n",
              "        (W_query): Linear(in_features=768, out_features=768, bias=False)\n",
              "        (W_key): Linear(in_features=768, out_features=768, bias=False)\n",
              "        (W_value): Linear(in_features=768, out_features=768, bias=False)\n",
              "        (output_projection): Linear(in_features=768, out_features=768, bias=True)\n",
              "        (dropout): Dropout(p=0.1, inplace=False)\n",
              "      )\n",
              "      (feed_forward): FeedForward(\n",
              "        (layers): Sequential(\n",
              "          (0): Linear(in_features=768, out_features=3072, bias=True)\n",
              "          (1): GELU()\n",
              "          (2): Linear(in_features=3072, out_features=768, bias=True)\n",
              "        )\n",
              "      )\n",
              "      (layer_norm1): LayerNorm()\n",
              "      (layer_norm2): LayerNorm()\n",
              "      (drop_skip): Dropout(p=0.1, inplace=False)\n",
              "    )\n",
              "    (10): TransformerBlock(\n",
              "      (attention): MultiHeadAttention(\n",
              "        (W_query): Linear(in_features=768, out_features=768, bias=False)\n",
              "        (W_key): Linear(in_features=768, out_features=768, bias=False)\n",
              "        (W_value): Linear(in_features=768, out_features=768, bias=False)\n",
              "        (output_projection): Linear(in_features=768, out_features=768, bias=True)\n",
              "        (dropout): Dropout(p=0.1, inplace=False)\n",
              "      )\n",
              "      (feed_forward): FeedForward(\n",
              "        (layers): Sequential(\n",
              "          (0): Linear(in_features=768, out_features=3072, bias=True)\n",
              "          (1): GELU()\n",
              "          (2): Linear(in_features=3072, out_features=768, bias=True)\n",
              "        )\n",
              "      )\n",
              "      (layer_norm1): LayerNorm()\n",
              "      (layer_norm2): LayerNorm()\n",
              "      (drop_skip): Dropout(p=0.1, inplace=False)\n",
              "    )\n",
              "    (11): TransformerBlock(\n",
              "      (attention): MultiHeadAttention(\n",
              "        (W_query): Linear(in_features=768, out_features=768, bias=False)\n",
              "        (W_key): Linear(in_features=768, out_features=768, bias=False)\n",
              "        (W_value): Linear(in_features=768, out_features=768, bias=False)\n",
              "        (output_projection): Linear(in_features=768, out_features=768, bias=True)\n",
              "        (dropout): Dropout(p=0.1, inplace=False)\n",
              "      )\n",
              "      (feed_forward): FeedForward(\n",
              "        (layers): Sequential(\n",
              "          (0): Linear(in_features=768, out_features=3072, bias=True)\n",
              "          (1): GELU()\n",
              "          (2): Linear(in_features=3072, out_features=768, bias=True)\n",
              "        )\n",
              "      )\n",
              "      (layer_norm1): LayerNorm()\n",
              "      (layer_norm2): LayerNorm()\n",
              "      (drop_skip): Dropout(p=0.1, inplace=False)\n",
              "    )\n",
              "  )\n",
              "  (final_norm): LayerNorm()\n",
              "  (out_head): Linear(in_features=768, out_features=50257, bias=False)\n",
              ")"
            ]
          },
          "metadata": {},
          "execution_count": 51
        }
      ]
    },
    {
      "cell_type": "markdown",
      "source": [
        "### Create Utility Functions For Text To Token ID Conversion"
      ],
      "metadata": {
        "id": "tk8umwaXfuEO"
      }
    },
    {
      "cell_type": "code",
      "source": [
        "import tiktoken\n",
        "from ch04 import generate_text_simple\n",
        "\n",
        "def text_to_token_ids(text, tokenizer):\n",
        "  encoded = tokenizer.encode(text, allowed_special={\"<|endoftext|>\"})\n",
        "\n",
        "  # turn the list of token IDs into tensor with batch dimension\n",
        "  encoded_tensor = torch.tensor(encoded).unsqueeze(0)\n",
        "  return encoded_tensor\n",
        "\n",
        "def token_ids_to_text(encoded_tensor, tokenizer):\n",
        "  # turn tensor without batch dimension to list\n",
        "  token_ids = encoded_tensor.squeeze(0).tolist()\n",
        "  text = tokenizer.decode(token_ids)\n",
        "  return text"
      ],
      "metadata": {
        "id": "8KHAff--W3vr"
      },
      "execution_count": 52,
      "outputs": []
    },
    {
      "cell_type": "code",
      "source": [
        "# example setup\n",
        "start_context = \"In the midst of winter, I found\"\n",
        "bpe_tokenizer = tiktoken.get_encoding(\"gpt2\")\n",
        "\n",
        "token_ids = generate_text_simple(model=model,\n",
        "                                 input_batch=text_to_token_ids(start_context,\n",
        "                                                               bpe_tokenizer),\n",
        "                                 max_new_tokens=10,\n",
        "                                 context_size=GPT_CONFIG_124M[\"context_length\"]\n",
        "                                 )\n",
        "\n",
        "print(\"output text: \\n\", token_ids_to_text(token_ids, bpe_tokenizer))"
      ],
      "metadata": {
        "colab": {
          "base_uri": "https://localhost:8080/"
        },
        "id": "45RaFxH1W3tR",
        "outputId": "c80ba878-d044-476a-e3cb-945668cb7258"
      },
      "execution_count": 53,
      "outputs": [
        {
          "output_type": "stream",
          "name": "stdout",
          "text": [
            "output text: \n",
            " In the midst of winter, I found gluten primarily220 specificity Manufacttions Pictures SiberiaCongress Ess\n"
          ]
        }
      ]
    },
    {
      "cell_type": "markdown",
      "source": [
        "### Calculate The Text Generation Loss\n",
        "\n",
        "```\n",
        "logits -> probabilities -> target probabilities -> log probabilities -> average log probability -> negative average log probability (i.e. cross entropy loss)\n",
        "```"
      ],
      "metadata": {
        "id": "_LtK-oxVihS1"
      }
    },
    {
      "cell_type": "markdown",
      "source": [
        "Let's experiment on a simple example:"
      ],
      "metadata": {
        "id": "ggsy3zwSjHxa"
      }
    },
    {
      "cell_type": "code",
      "source": [
        "# example\n",
        "inputs = torch.tensor([[16833, 3626, 6100],   # [\"every effort moves\",\n",
        "                       [40,    1107, 588]])   #  \"I really like\"]\n",
        "\n",
        "targets = torch.tensor([[3626, 6100, 345  ],  # [\" effort moves you\",\n",
        "                        [1107,  588, 11311]]) #  \" really like chocolate\"]"
      ],
      "metadata": {
        "id": "7z1lxD6bW3rC"
      },
      "execution_count": 54,
      "outputs": []
    },
    {
      "cell_type": "code",
      "source": [
        "# compute logits\n",
        "with torch.no_grad():\n",
        "  logits = model(inputs)\n",
        "\n",
        "# compute probas\n",
        "probas = torch.softmax(logits, dim=-1)\n",
        "print(\"probas shape: \", probas.shape)\n",
        "\n",
        "# compute argmax and retrieve the token ID with highest probas\n",
        "token_ids = torch.argmax(probas, dim=-1, keepdim=True)\n",
        "print(\"token IDs shape: \", token_ids.shape)\n",
        "print(\"token IDs: \\n\", token_ids)\n",
        "\n",
        "# convert token IDs into text\n",
        "print(f\"target batch: {token_ids_to_text(targets[0], bpe_tokenizer)}\")\n",
        "print(f\"predicted batch: {token_ids_to_text(token_ids[0].flatten(), bpe_tokenizer)}\")"
      ],
      "metadata": {
        "colab": {
          "base_uri": "https://localhost:8080/"
        },
        "id": "hbmWF-ZKW3ob",
        "outputId": "6befe6ff-4dc8-49b0-9fbd-a613398fbea6"
      },
      "execution_count": 55,
      "outputs": [
        {
          "output_type": "stream",
          "name": "stdout",
          "text": [
            "probas shape:  torch.Size([2, 3, 50257])\n",
            "token IDs shape:  torch.Size([2, 3, 1])\n",
            "token IDs: \n",
            " tensor([[[26079],\n",
            "         [46561],\n",
            "         [31436]],\n",
            "\n",
            "        [[29764],\n",
            "         [46155],\n",
            "         [45644]]])\n",
            "target batch:  effort moves you\n",
            "predicted batch: ergy digsCVE\n"
          ]
        }
      ]
    },
    {
      "cell_type": "code",
      "source": [
        "# retrieve target token ID probas for each batch\n",
        "text_id = 0\n",
        "target_probas_1 = probas[text_id,\n",
        "                         [0, 1, 2],\n",
        "                         targets[text_id]]\n",
        "print(\"target probas: \", target_probas_1)\n",
        "\n",
        "text_id = 1\n",
        "target_probas_2 = probas[text_id,\n",
        "                         [0, 1, 2],\n",
        "                         targets[text_id]]\n",
        "print(\"target probas: \", target_probas_2)"
      ],
      "metadata": {
        "colab": {
          "base_uri": "https://localhost:8080/"
        },
        "id": "tJvun0FeW3mA",
        "outputId": "ee3b1828-c935-4218-b8c3-1a8247d8f43e"
      },
      "execution_count": 56,
      "outputs": [
        {
          "output_type": "stream",
          "name": "stdout",
          "text": [
            "target probas:  tensor([5.8695e-06, 1.1964e-05, 2.3211e-05])\n",
            "target probas:  tensor([1.7885e-05, 1.1387e-05, 1.7034e-05])\n"
          ]
        }
      ]
    },
    {
      "cell_type": "code",
      "source": [
        "# compute log probabilities\n",
        "log_probas = torch.log(torch.cat([target_probas_1, target_probas_2]))\n",
        "print(\"log probas: \", log_probas)\n",
        "\n",
        "# compute average log probability\n",
        "avg_log_probas = torch.mean(log_probas)\n",
        "print(\"average log probas: \", avg_log_probas)\n",
        "\n",
        "# compute negative average log probability\n",
        "neg_avg_log_probas = avg_log_probas * -1\n",
        "print(\"negative average log probas: \", neg_avg_log_probas)"
      ],
      "metadata": {
        "colab": {
          "base_uri": "https://localhost:8080/"
        },
        "id": "v7ZwTx-_W3ji",
        "outputId": "e76fd556-ec3e-49c7-b264-25216ef57ab9"
      },
      "execution_count": 57,
      "outputs": [
        {
          "output_type": "stream",
          "name": "stdout",
          "text": [
            "log probas:  tensor([-12.0457, -11.3336, -10.6709, -10.9315, -11.3831, -10.9803])\n",
            "average log probas:  tensor(-11.2242)\n",
            "negative average log probas:  tensor(11.2242)\n"
          ]
        }
      ]
    },
    {
      "cell_type": "markdown",
      "source": [
        "Now let's use pytorch `cross_entropy` function:"
      ],
      "metadata": {
        "id": "-0kQKUyJozDQ"
      }
    },
    {
      "cell_type": "code",
      "source": [
        "# example setup\n",
        "print(\"logits shape: \", logits.shape)\n",
        "print(\"targets shape: \", targets.shape)\n",
        "\n",
        "# flatten the tensor before plug into cross_entropy\n",
        "logits_flat = logits.flatten(0, 1)\n",
        "targets_flat = targets.flatten()\n",
        "print(\"flatten logits shape: \", logits_flat.shape)\n",
        "print(\"flatten targets shape: \", targets_flat.shape)\n",
        "\n",
        "# compute loss\n",
        "loss = torch.nn.functional.cross_entropy(logits_flat, targets_flat)\n",
        "print(\"loss: \", loss)\n",
        "print(\"loss as float: \", loss.item())"
      ],
      "metadata": {
        "colab": {
          "base_uri": "https://localhost:8080/"
        },
        "id": "4ikrjXV0W3hQ",
        "outputId": "b8ae7dd3-7ecc-4a50-c6d0-7f87fbe9524d"
      },
      "execution_count": 58,
      "outputs": [
        {
          "output_type": "stream",
          "name": "stdout",
          "text": [
            "logits shape:  torch.Size([2, 3, 50257])\n",
            "targets shape:  torch.Size([2, 3])\n",
            "flatten logits shape:  torch.Size([6, 50257])\n",
            "flatten targets shape:  torch.Size([6])\n",
            "loss:  tensor(11.2242)\n",
            "loss as float:  11.2241849899292\n"
          ]
        }
      ]
    },
    {
      "cell_type": "markdown",
      "source": [
        "### Calculating The Training And Validation Set Losses"
      ],
      "metadata": {
        "id": "ZoPMNwDNpje-"
      }
    },
    {
      "cell_type": "code",
      "source": [
        "# setup\n",
        "file_path = \"the-verdict.txt\"\n",
        "with open(file_path, \"r\", encoding=\"utf-8\") as f:\n",
        "  text = f.read()\n",
        "\n",
        "total_characters = len(text)\n",
        "total_tokens = len(bpe_tokenizer.encode(text))\n",
        "print(f\"total characters: {total_characters}\")\n",
        "print(f\"total tokens: {total_tokens}\")"
      ],
      "metadata": {
        "colab": {
          "base_uri": "https://localhost:8080/"
        },
        "id": "4wvZNR1XW3ew",
        "outputId": "6d78e1a5-bf6e-4885-e3e7-64b9989082f8"
      },
      "execution_count": 59,
      "outputs": [
        {
          "output_type": "stream",
          "name": "stdout",
          "text": [
            "total characters: 20479\n",
            "total tokens: 5145\n"
          ]
        }
      ]
    },
    {
      "cell_type": "code",
      "source": [
        "# train-test split\n",
        "train_ratio = 0.90\n",
        "split_id = int(train_ratio * len(text))\n",
        "train_text = text[:split_id]\n",
        "val_text = text[split_id:]"
      ],
      "metadata": {
        "id": "UzbRgEydW3cU"
      },
      "execution_count": 60,
      "outputs": []
    },
    {
      "cell_type": "code",
      "source": [
        "# create dataloaders\n",
        "from ch02 import create_dataloader_V1\n",
        "torch.manual_seed(211)\n",
        "\n",
        "\n",
        "train_dataloader = create_dataloader_V1(text=train_text,\n",
        "                                        batch_size=2,\n",
        "                                        context_length=GPT_CONFIG_124M[\"context_length\"],\n",
        "                                        stride=GPT_CONFIG_124M['context_length'],\n",
        "                                        shuffle=True,\n",
        "                                        drop_last=True,\n",
        "                                        num_workers=0)\n",
        "\n",
        "val_dataloader = create_dataloader_V1(text=val_text,\n",
        "                                      batch_size=2,\n",
        "                                      context_length=GPT_CONFIG_124M[\"context_length\"],\n",
        "                                      stride=GPT_CONFIG_124M['context_length'],\n",
        "                                      shuffle=False,\n",
        "                                      drop_last=False,\n",
        "                                      num_workers=0)"
      ],
      "metadata": {
        "id": "iTDFK8swW3Zt"
      },
      "execution_count": 61,
      "outputs": []
    },
    {
      "cell_type": "code",
      "source": [
        "# Sanity check\n",
        "\n",
        "if total_tokens * (train_ratio) < GPT_CONFIG_124M[\"context_length\"]:\n",
        "    print(\"Not enough tokens for the training loader. \"\n",
        "          \"Try to lower the `GPT_CONFIG_124M['context_length']` or \"\n",
        "          \"increase the `training_ratio`\")\n",
        "\n",
        "if total_tokens * (1-train_ratio) < GPT_CONFIG_124M[\"context_length\"]:\n",
        "    print(\"Not enough tokens for the validation loader. \"\n",
        "          \"Try to lower the `GPT_CONFIG_124M['context_length']` or \"\n",
        "          \"decrease the `training_ratio`\")"
      ],
      "metadata": {
        "id": "wKzog3NaW3XA"
      },
      "execution_count": 62,
      "outputs": []
    },
    {
      "cell_type": "code",
      "source": [
        "print(\"train loader:\")\n",
        "for x, y in train_dataloader:\n",
        "  print(x.shape, y.shape)\n",
        "\n",
        "print(\"\\nval loader:\")\n",
        "for x, y in val_dataloader:\n",
        "  print(x.shape, y.shape)"
      ],
      "metadata": {
        "colab": {
          "base_uri": "https://localhost:8080/"
        },
        "id": "lCJn0rNQW3Ul",
        "outputId": "ea29e6a9-41b3-429a-a4ea-f280c3bb1314"
      },
      "execution_count": 63,
      "outputs": [
        {
          "output_type": "stream",
          "name": "stdout",
          "text": [
            "train loader:\n",
            "torch.Size([2, 256]) torch.Size([2, 256])\n",
            "torch.Size([2, 256]) torch.Size([2, 256])\n",
            "torch.Size([2, 256]) torch.Size([2, 256])\n",
            "torch.Size([2, 256]) torch.Size([2, 256])\n",
            "torch.Size([2, 256]) torch.Size([2, 256])\n",
            "torch.Size([2, 256]) torch.Size([2, 256])\n",
            "torch.Size([2, 256]) torch.Size([2, 256])\n",
            "torch.Size([2, 256]) torch.Size([2, 256])\n",
            "torch.Size([2, 256]) torch.Size([2, 256])\n",
            "\n",
            "val loader:\n",
            "torch.Size([2, 256]) torch.Size([2, 256])\n"
          ]
        }
      ]
    },
    {
      "cell_type": "markdown",
      "source": [
        "Let's create an utility function to calculate the cross entropy loss of a given batch returned via the training and validation loader:"
      ],
      "metadata": {
        "id": "eVUhWKt9uPRb"
      }
    },
    {
      "cell_type": "code",
      "source": [
        "def calc_loss_batch(input_batch,\n",
        "                    target_batch,\n",
        "                    model,\n",
        "                    device):\n",
        "  input_batch = input_batch.to(device)\n",
        "  target_batch = target_batch.to(device)\n",
        "\n",
        "  logits = model(input_batch)\n",
        "  loss = torch.nn.functional.cross_entropy(logits.flatten(0, 1),\n",
        "                                           target_batch.flatten())\n",
        "  return loss"
      ],
      "metadata": {
        "id": "mVuvzi8rW3Sb"
      },
      "execution_count": 64,
      "outputs": []
    },
    {
      "cell_type": "markdown",
      "source": [
        "Now, we use the above funtion to create a function to compute the training and validation losses:"
      ],
      "metadata": {
        "id": "h8ex3s1pu54s"
      }
    },
    {
      "cell_type": "code",
      "source": [
        "def calc_loss_loader(dataloader,\n",
        "                     model,\n",
        "                     device,\n",
        "                     num_batches=None):\n",
        "  total_loss = 0.\n",
        "  if len(dataloader) == 0:\n",
        "    return float(\"nan\")\n",
        "  elif num_batches is None:\n",
        "    num_batches = len(dataloader)\n",
        "  else:\n",
        "    # reduce the number of batches to match the total number of batches in the data loader\n",
        "    # if num_batches exceeds the number of batches in the data loader\n",
        "    num_batches = min(num_batches, len(dataloader))\n",
        "  for i, (input_batch, target_batch) in enumerate(dataloader):\n",
        "    if i < num_batches:\n",
        "      loss = calc_loss_batch(input_batch,\n",
        "                             target_batch,\n",
        "                             model,\n",
        "                             device)\n",
        "      total_loss += loss.item()\n",
        "    else:\n",
        "      break\n",
        "  return total_loss / num_batches"
      ],
      "metadata": {
        "id": "xr3Q7qboW3P4"
      },
      "execution_count": 65,
      "outputs": []
    },
    {
      "cell_type": "markdown",
      "source": [
        "Let's compute losses!!!"
      ],
      "metadata": {
        "id": "KfiIulECyykj"
      }
    },
    {
      "cell_type": "code",
      "source": [
        "import time\n",
        "compute_loss_start_time = time.time()\n",
        "\n",
        "device = torch.device(\"cuda\" if torch.cuda.is_available() else \"cpu\")\n",
        "model.to(device)\n",
        "\n",
        "with torch.no_grad():\n",
        "  train_loss = calc_loss_loader(train_dataloader,\n",
        "                                model,\n",
        "                                device)\n",
        "  val_loss = calc_loss_loader(val_dataloader,\n",
        "                              model,\n",
        "                              device)\n",
        "\n",
        "print(f\"train loss: {train_loss:.4f}\")\n",
        "print(f\"validation loss: {val_loss:.4f}\")\n",
        "\n",
        "\n",
        "compute_loss_end_time = time.time()\n",
        "runtime_in_seconds = compute_loss_end_time - compute_loss_start_time\n",
        "# format as minutes and seconds\n",
        "minutes, seconds = divmod(runtime_in_seconds, 60)\n",
        "print(f\"compute_loss runtime: {int(minutes)} min {seconds:.2f} sec\")"
      ],
      "metadata": {
        "colab": {
          "base_uri": "https://localhost:8080/"
        },
        "id": "t_4klJ6_W3Ni",
        "outputId": "33567d89-7c84-4971-bfba-16a07c29186f"
      },
      "execution_count": 66,
      "outputs": [
        {
          "output_type": "stream",
          "name": "stdout",
          "text": [
            "train loss: 10.9759\n",
            "validation loss: 11.0311\n",
            "compute_loss runtime: 0 min 0.73 sec\n"
          ]
        }
      ]
    },
    {
      "cell_type": "markdown",
      "source": [
        "## Training An LLM"
      ],
      "metadata": {
        "id": "XXLpa82X0BrE"
      }
    },
    {
      "cell_type": "markdown",
      "source": [
        "Let's implement a training function:"
      ],
      "metadata": {
        "id": "Rp60IL3D1Sic"
      }
    },
    {
      "cell_type": "code",
      "source": [
        "def train_model_simple(model,\n",
        "                       train_loader,\n",
        "                       val_loader,\n",
        "                       optimizer,\n",
        "                       device,\n",
        "                       num_epochs,\n",
        "                       eval_freq,\n",
        "                       eval_iter,\n",
        "                       start_context,\n",
        "                       tokenizer):\n",
        "\n",
        "  # initialize lists to track losses and tokens seen\n",
        "  train_losses = []\n",
        "  val_losses = []\n",
        "  track_tokens_seen = []\n",
        "  token_seen = 0\n",
        "  global_step = -1\n",
        "\n",
        "  # main training loop - iterate over training epochs\n",
        "  for epoch in range(num_epochs):\n",
        "    # set model to training mode\n",
        "    model.train()\n",
        "\n",
        "    # iterate over batches in each training epoch\n",
        "    for input_batch, target_batch in train_loader:\n",
        "      # reset loss gradients from previous batch iteration\n",
        "      optimizer.zero_grad()\n",
        "\n",
        "      # calculate loss on current batch\n",
        "      loss = calc_loss_batch(input_batch,\n",
        "                             target_batch,\n",
        "                             model,\n",
        "                             device)\n",
        "\n",
        "      # backward pass to calculate loss gradients\n",
        "      loss.backward()\n",
        "\n",
        "      # update model weights using loss gradients\n",
        "      optimizer.step()\n",
        "      token_seen += input_batch.numel()\n",
        "      global_step += 1\n",
        "\n",
        "      # optional evaluation step\n",
        "      if global_step % eval_freq == 0:\n",
        "        train_loss, val_loss = evaluate_model(model,\n",
        "                                              train_loader,\n",
        "                                              val_loader,\n",
        "                                              device,\n",
        "                                              eval_iter)\n",
        "        train_losses.append(train_loss)\n",
        "        val_losses.append(val_loss)\n",
        "        track_tokens_seen.append(token_seen)\n",
        "        # print training and evaluation set loss\n",
        "        print(f\"Ep {epoch+1} (Step {global_step:06d}): \"\n",
        "              f\"Train loss {train_loss:.3f}, Val loss {val_loss:.3f}\")\n",
        "\n",
        "    # generative sample text for visual inspection\n",
        "    generate_and_print_sample(model,\n",
        "                              tokenizer,\n",
        "                              device,\n",
        "                              start_context)\n",
        "\n",
        "  return train_losses, val_losses, track_tokens_seen\n",
        "\n",
        "\n",
        "def evaluate_model(model,\n",
        "                    train_loader,\n",
        "                    val_loader,\n",
        "                    device,\n",
        "                    eval_iter):\n",
        "  # set model to evaluation mode\n",
        "  model.eval()\n",
        "  with torch.no_grad():\n",
        "    # calculate loss\n",
        "    train_loss = calc_loss_loader(train_loader,\n",
        "                                  model,\n",
        "                                  device,\n",
        "                                  num_batches=eval_iter)\n",
        "    val_loss = calc_loss_loader(val_loader,\n",
        "                                model,\n",
        "                                device,\n",
        "                                num_batches=eval_iter)\n",
        "\n",
        "  # set model bacl to training mode\n",
        "  model.train()\n",
        "  return train_loss, val_loss\n",
        "\n",
        "\n",
        "def generate_and_print_sample(model,\n",
        "                              tokenizer,\n",
        "                              device,\n",
        "                              start_context):\n",
        "  # set model to evaluation mode\n",
        "  model.eval()\n",
        "  context_size = model.position_emb.weight.shape[0]\n",
        "  encoded = text_to_token_ids(start_context, tokenizer).to(device)\n",
        "  with torch.no_grad():\n",
        "    token_ids = generate_text_simple(model=model,\n",
        "                                     input_batch=encoded,\n",
        "                                     max_new_tokens=50,\n",
        "                                     context_size=context_size)\n",
        "  decoded_text = token_ids_to_text(token_ids, tokenizer)\n",
        "  print(decoded_text.replace(\"\\n\", \" \")) # compact print format\n",
        "  # set model bacl to training mode\n",
        "  model.train()"
      ],
      "metadata": {
        "id": "18JgciImW3K5"
      },
      "execution_count": 67,
      "outputs": []
    },
    {
      "cell_type": "markdown",
      "source": [
        "Let's train the LLM:"
      ],
      "metadata": {
        "id": "coJDLqIc6FFV"
      }
    },
    {
      "cell_type": "code",
      "source": [
        "import time\n",
        "training_start_time = time.time()\n",
        "\n",
        "torch.manual_seed(211)\n",
        "model = GPT2Model(GPT_CONFIG_124M).to(device)\n",
        "optimizer = torch.optim.AdamW(model.parameters(),\n",
        "                              lr=0.0004,\n",
        "                              weight_decay=0.1)\n",
        "num_epochs = 20\n",
        "train_losses, val_losses, tokens_seen = train_model_simple(model=model,\n",
        "                                                             train_loader=train_dataloader,\n",
        "                                                             val_loader=val_dataloader,\n",
        "                                                             optimizer=optimizer,\n",
        "                                                             device=device,\n",
        "                                                             num_epochs=num_epochs,\n",
        "                                                             eval_freq=5,\n",
        "                                                             eval_iter=5,\n",
        "                                                             start_context=\"In the midst of winter, I found\",\n",
        "                                                             tokenizer=bpe_tokenizer)\n",
        "\n",
        "\n",
        "training_end_time = time.time()\n",
        "runtime_in_seconds = training_end_time - training_start_time\n",
        "# format as minutes and seconds\n",
        "minutes, seconds = divmod(runtime_in_seconds, 60)\n",
        "print(f\"device: {device}\")\n",
        "print(f\"training runtime: {int(minutes)} min {seconds:.2f} sec\")"
      ],
      "metadata": {
        "colab": {
          "base_uri": "https://localhost:8080/"
        },
        "id": "k2Vl0vO3W3I6",
        "outputId": "7c42671e-3ff0-4ca4-cb58-e01bb7a316b2"
      },
      "execution_count": 78,
      "outputs": [
        {
          "output_type": "stream",
          "name": "stdout",
          "text": [
            "Ep 1 (Step 000000): Train loss 9.793, Val loss 10.015\n",
            "Ep 1 (Step 000005): Train loss 8.116, Val loss 8.308\n",
            "In the midst of winter, I found the                                                 \n",
            "Ep 2 (Step 000010): Train loss 6.760, Val loss 7.085\n",
            "Ep 2 (Step 000015): Train loss 6.054, Val loss 6.605\n",
            "In the midst of winter, I found the, and, and, the, the, and, and, and, the, and, the the the the, the, and the, and, the the the, the the the the, the the the the the, the, the\n",
            "Ep 3 (Step 000020): Train loss 7.540, Val loss 9.204\n",
            "Ep 3 (Step 000025): Train loss 5.570, Val loss 6.454\n",
            "In the midst of winter, I found, and, and I was, and the.                                        \n",
            "Ep 4 (Step 000030): Train loss 5.501, Val loss 6.621\n",
            "Ep 4 (Step 000035): Train loss 5.269, Val loss 6.500\n",
            "In the midst of winter, I found the with the I had I had \" had the I had the I had \" I had the I had the with the and I had the with the with the with the with the I had the and I had the he was to the with the with\n",
            "Ep 5 (Step 000040): Train loss 4.665, Val loss 6.396\n",
            "In the midst of winter, I found, and, and I had been a little.                                        \n",
            "Ep 6 (Step 000045): Train loss 4.258, Val loss 6.330\n",
            "Ep 6 (Step 000050): Train loss 3.921, Val loss 6.350\n",
            "In the midst of winter, I found-rooms, I said--I have the picture--the and I felt him, I felt, I felt to see his pictures, and I had been the picture--his I had been his pictures--and it, I felt to see it,\n",
            "Ep 7 (Step 000055): Train loss 3.282, Val loss 6.238\n",
            "Ep 7 (Step 000060): Train loss 2.656, Val loss 6.290\n",
            "In the midst of winter, I found-rooms, I had been his pictures. Gisburn. Gisburn's an!     \"I didn't you know; and I had been the fact of his pictures--I didn't--as it, I had\n",
            "Ep 8 (Step 000065): Train loss 2.243, Val loss 6.284\n",
            "Ep 8 (Step 000070): Train loss 1.736, Val loss 6.264\n",
            "In the midst of winter, I found--and that he was him, I had the last word. Gisburn's an awful simple's \"Yes--his just he had the house.\"    \"I had been the man of the hour. The younger artist was said\n",
            "Ep 9 (Step 000075): Train loss 1.550, Val loss 6.306\n",
            "Ep 9 (Step 000080): Train loss 1.186, Val loss 6.408\n",
            "In the midst of winter, I found me--I glanced after him, a good fellow--and. Gisburn's past!      \"Oh, the window-curtains, as I had been the man of the hour. The younger artist was said\n",
            "Ep 10 (Step 000085): Train loss 0.909, Val loss 6.443\n",
            "In the midst of winter, I found me, for he was \"interesting\": on that point I could have given Miss Croft the fact, becoming the man of the moment--as Jack himself, one might put it, had been the man of the hour. The younger artist was said\n",
            "Ep 11 (Step 000090): Train loss 0.675, Val loss 6.442\n",
            "Ep 11 (Step 000095): Train loss 0.449, Val loss 6.482\n",
            "In the midst of winter, I found me--quite insensible to the irony. Gisburn's: make yourself comfortable--and here are the cigars you like.\"                        \n",
            "Ep 12 (Step 000100): Train loss 0.354, Val loss 6.577\n",
            "Ep 12 (Step 000105): Train loss 0.316, Val loss 6.696\n",
            "In the midst of winter, I found me, for he answered with a deprecating laugh: \"Yes--and by me!\"  \"I what a degree he had the window-curtains, moved aside a _jardiniere_ full of pink azaleas\n",
            "Ep 13 (Step 000110): Train loss 0.235, Val loss 6.744\n",
            "Ep 13 (Step 000115): Train loss 0.179, Val loss 6.809\n",
            "In the midst of winter, I found me, for he answered with a deprecating laugh: \"Yes--she's an awful simpleton, you know, and threw back the same quality as his pictures--since he liked his ease--because he didn't want to go on painting\n",
            "Ep 14 (Step 000120): Train loss 0.171, Val loss 6.838\n",
            "Ep 14 (Step 000125): Train loss 0.146, Val loss 6.907\n",
            "In the midst of winter, I found me I felt able to face the irony. She wanted him vindicated--and by me!\"  He laughed again, and, on a later day, one might put it, married a rich widow, and established himself in a villa on\n",
            "Ep 15 (Step 000130): Train loss 0.134, Val loss 6.940\n",
            "In the midst of winter, I found me brush.\"  And his tone told me in a flash that he never thought of anything else.  I moved away, instinctively embarrassed by my unexpected discovery; and as I turned, my eye fell on a small picture above the mantel\n",
            "Ep 16 (Step 000135): Train loss 0.120, Val loss 6.993\n",
            "Ep 16 (Step 000140): Train loss 0.113, Val loss 7.059\n",
            "In the midst of winter, I found me still a cheap genius--I told Mrs. Stroud so when she began to stammer something about her poverty. I remember getting off a prodigious phrase about the honour being _mine_--oh, I was princely, beaming\n",
            "Ep 17 (Step 000145): Train loss 0.090, Val loss 7.085\n",
            "Ep 17 (Step 000150): Train loss 0.109, Val loss 7.084\n",
            "In the midst of winter, I found me I felt able to face the irony. She wanted him vindicated--and by me!\" I was hear that, in the height of his head to look up at the honour being _mine_--oh, I was princely, my dear\n",
            "Ep 18 (Step 000155): Train loss 0.068, Val loss 7.127\n",
            "Ep 18 (Step 000160): Train loss 0.049, Val loss 7.102\n",
            "In the midst of winter, I found me, for he answered with a deprecating laugh: \"Yes--she's past!  Mrs. It was just because she was _not_ interesting--if I may be pardoned the bull--ah, poor Stroud! She\n",
            "Ep 19 (Step 000165): Train loss 0.059, Val loss 7.099\n",
            "Ep 19 (Step 000170): Train loss 0.051, Val loss 7.152\n",
            "In the midst of winter, I found--forming, as it were, struck by his last word. Poor Jack Gisburn! The women had made him--it was fitting that they should mourn him. Among his own sex fewer regrets were heard, and in his own trade hardly a\n",
            "Ep 20 (Step 000175): Train loss 0.049, Val loss 7.136\n",
            "In the midst of winter, I found-stream stroke. Gisburn--as such--had not existed till nearly a year after Jack's resolve had been taken. It might be that he had married her--since he liked his ease--because he didn't want to go on painting\n",
            "device: cuda\n",
            "training runtime: 1 min 0.29 sec\n"
          ]
        }
      ]
    },
    {
      "cell_type": "markdown",
      "source": [
        "Let's plot a loss graph:"
      ],
      "metadata": {
        "id": "q3hEb6gFACj7"
      }
    },
    {
      "cell_type": "code",
      "source": [
        "import matplotlib.pyplot as plt\n",
        "from matplotlib.ticker import MaxNLocator\n",
        "\n",
        "\n",
        "def plot_losses(epoch_seen,\n",
        "                tokens_seen,\n",
        "                train_losses,\n",
        "                val_losses):\n",
        "  fig, ax1 = plt.subplots(figsize=(5, 3))\n",
        "\n",
        "  # plot training and validation loss against epochs\n",
        "  ax1.plot(epoch_seen, train_losses, label=\"Training Loss\")\n",
        "  ax1.plot(epoch_seen, val_losses, linestyle=\"-.\", label=\"Validation Loss\")\n",
        "  ax1.set_xlabel(\"Epoch\")\n",
        "  ax1.set_ylabel(\"Loss\")\n",
        "  ax1.legend(loc=\"upper right\")\n",
        "  ax1.xaxis.set_major_locator(MaxNLocator(integer=True)) # only show integer labels on x-axis\n",
        "\n",
        "  # create a second x-axis for token seen\n",
        "  ax2 = ax1.twiny() # create a second x-axis that shares the same y-axis\n",
        "  ax2.plot(tokens_seen, train_losses, alpha=0) # invisible plot for aligning ticks\n",
        "  ax2.set_xlabel(\"Tokens Seen\")\n",
        "\n",
        "  fig.tight_layout() # asjust layput to make room\n",
        "  plt.savefig(\"loss_plot.pdf\")\n",
        "  plt.show()\n",
        "\n",
        "\n",
        "epochs_tensor = torch.linspace(0, num_epochs, len(train_losses))\n",
        "plot_losses(epochs_tensor, tokens_seen, train_losses, val_losses)"
      ],
      "metadata": {
        "colab": {
          "base_uri": "https://localhost:8080/",
          "height": 307
        },
        "id": "E-h7BHpEW3GZ",
        "outputId": "c2dc8eb4-2ce2-47a5-abc9-76c8cf280d6d"
      },
      "execution_count": 79,
      "outputs": [
        {
          "output_type": "display_data",
          "data": {
            "text/plain": [
              "<Figure size 500x300 with 2 Axes>"
            ],
            "image/png": "[encoded data removed]"
          },
          "metadata": {}
        }
      ]
    },
    {
      "cell_type": "markdown",
      "source": [
        "## Decoding Strategies To Control Randomness"
      ],
      "metadata": {
        "id": "zT4B20o6Cih_"
      }
    },
    {
      "cell_type": "code",
      "source": [],
      "metadata": {
        "id": "JBQnMpP1W3EO"
      },
      "execution_count": 79,
      "outputs": []
    },
    {
      "cell_type": "code",
      "source": [],
      "metadata": {
        "id": "e8l-cdD0W3B2"
      },
      "execution_count": 69,
      "outputs": []
    },
    {
      "cell_type": "code",
      "source": [],
      "metadata": {
        "id": "_7y2fU0IW2__"
      },
      "execution_count": 69,
      "outputs": []
    },
    {
      "cell_type": "code",
      "source": [],
      "metadata": {
        "id": "AZCyEBuvWcwX"
      },
      "execution_count": 69,
      "outputs": []
    },
    {
      "cell_type": "code",
      "source": [],
      "metadata": {
        "id": "FwDdXVoWWcuS"
      },
      "execution_count": 69,
      "outputs": []
    },
    {
      "cell_type": "code",
      "source": [],
      "metadata": {
        "id": "CfNIf-HUWcsD"
      },
      "execution_count": 69,
      "outputs": []
    },
    {
      "cell_type": "code",
      "source": [],
      "metadata": {
        "id": "pSLAhk0DWcp6"
      },
      "execution_count": 69,
      "outputs": []
    },
    {
      "cell_type": "code",
      "source": [],
      "metadata": {
        "id": "CsHWnRl5Wcnx"
      },
      "execution_count": 69,
      "outputs": []
    },
    {
      "cell_type": "code",
      "source": [],
      "metadata": {
        "id": "KKjK21vaWcig"
      },
      "execution_count": 69,
      "outputs": []
    },
    {
      "cell_type": "code",
      "source": [
        "notebook_end_time = time.time()\n",
        "runtime_in_seconds = notebook_end_time - notebook_start_time\n",
        "\n",
        "# format as minutes and seconds\n",
        "minutes, seconds = divmod(runtime_in_seconds, 60)\n",
        "print(f\"Notebook runtime: {int(minutes)} min {seconds:.2f} sec\")"
      ],
      "metadata": {
        "colab": {
          "base_uri": "https://localhost:8080/"
        },
        "id": "oUEJEePKWcfs",
        "outputId": "982546f0-4e67-42e7-d606-eed293be2339"
      },
      "execution_count": 70,
      "outputs": [
        {
          "output_type": "stream",
          "name": "stdout",
          "text": [
            "Notebook runtime: 4 min 58.12 sec\n"
          ]
        }
      ]
    }
  ]
}