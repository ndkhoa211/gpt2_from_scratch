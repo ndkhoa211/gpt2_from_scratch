{
  "nbformat": 4,
  "nbformat_minor": 0,
  "metadata": {
    "colab": {
      "provenance": []
    },
    "kernelspec": {
      "name": "python3",
      "display_name": "Python 3"
    },
    "language_info": {
      "name": "python"
    }
  },
  "cells": [
    {
      "cell_type": "markdown",
      "source": [
        "# Download and Inspect on the Dataset"
      ],
      "metadata": {
        "id": "Uelz6sV5vwLU"
      }
    },
    {
      "cell_type": "code",
      "source": [
        "import urllib.request\n",
        "\n",
        "url = (\"https://raw.githubusercontent.com/rasbt/LLMs-from-scratch/\"\n",
        "        \"refs/heads/main/ch02/01_main-chapter-code/\"\n",
        "        \"the-verdict.txt\")\n",
        "file_path = \"the-verdict.txt\"\n",
        "urllib.request.urlretrieve(url, file_path)"
      ],
      "metadata": {
        "colab": {
          "base_uri": "https://localhost:8080/"
        },
        "id": "d0Os5anWkJxb",
        "outputId": "fe56c935-9066-4332-9631-91aa093313c4"
      },
      "execution_count": 19,
      "outputs": [
        {
          "output_type": "execute_result",
          "data": {
            "text/plain": [
              "('the-verdict.txt', <http.client.HTTPMessage at 0x79b56ddc4710>)"
            ]
          },
          "metadata": {},
          "execution_count": 19
        }
      ]
    },
    {
      "cell_type": "code",
      "source": [
        "with open(\"the-verdict.txt\", \"r\", encoding=\"utf-8\") as f:\n",
        "  raw_text = f.read()\n",
        "\n",
        "print(\"total number of characters:\", len(raw_text))\n",
        "print(raw_text[:500])"
      ],
      "metadata": {
        "id": "5l8VG1r2ywoh",
        "colab": {
          "base_uri": "https://localhost:8080/"
        },
        "outputId": "b1f00365-64df-4e4d-c5b9-14452ee7ba58"
      },
      "execution_count": 20,
      "outputs": [
        {
          "output_type": "stream",
          "name": "stdout",
          "text": [
            "total number of characters: 20479\n",
            "I HAD always thought Jack Gisburn rather a cheap genius--though a good fellow enough--so it was no great surprise to me to hear that, in the height of his glory, he had dropped his painting, married a rich widow, and established himself in a villa on the Riviera. (Though I rather thought it would have been Rome or Florence.)\n",
            "\n",
            "\"The height of his glory\"--that was what the women called it. I can hear Mrs. Gideon Thwing--his last Chicago sitter--deploring his unaccountable abdication. \"Of course it'\n"
          ]
        }
      ]
    },
    {
      "cell_type": "markdown",
      "source": [
        "## Split texts into words"
      ],
      "metadata": {
        "id": "gBD3g65tzfCB"
      }
    },
    {
      "cell_type": "code",
      "source": [
        "import re\n",
        "\n",
        "experiment_text = \"Hello, World! Let's test this, --sentence.\"\n",
        "\n",
        "# the splitting delimiters included in the output\n",
        "splitted_word_list = re.split(r'([,.:;?_!\"()\\'\\s]|--)', experiment_text)\n",
        "print(splitted_word_list)\n",
        "\n",
        "\n",
        "# not included\n",
        "# splitted_word_list2 = re.split(r'[,.]|\\s', experiment_text)\n",
        "# print(splitted_word_list2)"
      ],
      "metadata": {
        "colab": {
          "base_uri": "https://localhost:8080/"
        },
        "id": "Aqw4Z-d3yfee",
        "outputId": "ea8d3dc1-3f00-4855-e5dc-a1a76009b38e"
      },
      "execution_count": 21,
      "outputs": [
        {
          "output_type": "stream",
          "name": "stdout",
          "text": [
            "['Hello', ',', '', ' ', 'World', '!', '', ' ', 'Let', \"'\", 's', ' ', 'test', ' ', 'this', ',', '', ' ', '', '--', 'sentence', '.', '']\n"
          ]
        }
      ]
    },
    {
      "cell_type": "code",
      "source": [
        "# get rid of white-space\n",
        "splitted_word_list = [word for word in splitted_word_list if word.strip()]\n",
        "print(splitted_word_list)"
      ],
      "metadata": {
        "colab": {
          "base_uri": "https://localhost:8080/"
        },
        "id": "TUsIDKpd2Oq4",
        "outputId": "15b4422c-83c4-4ac0-89e2-79069dc2263a"
      },
      "execution_count": 22,
      "outputs": [
        {
          "output_type": "stream",
          "name": "stdout",
          "text": [
            "['Hello', ',', 'World', '!', 'Let', \"'\", 's', 'test', 'this', ',', '--', 'sentence', '.']\n"
          ]
        }
      ]
    },
    {
      "cell_type": "markdown",
      "source": [
        "Let's apply it to the text"
      ],
      "metadata": {
        "id": "bBuj3-h38-XT"
      }
    },
    {
      "cell_type": "code",
      "source": [
        "preprocessed = re.split(r'([,.:;?_!\"()\\'\\s]|--)', raw_text)\n",
        "preprocessed = [word for word in preprocessed if word.strip()]\n",
        "print(preprocessed[:50])"
      ],
      "metadata": {
        "colab": {
          "base_uri": "https://localhost:8080/"
        },
        "id": "XIeq57OX6902",
        "outputId": "8e04c698-2fbe-44bf-d8d4-0a8d08d3f71b"
      },
      "execution_count": 23,
      "outputs": [
        {
          "output_type": "stream",
          "name": "stdout",
          "text": [
            "['I', 'HAD', 'always', 'thought', 'Jack', 'Gisburn', 'rather', 'a', 'cheap', 'genius', '--', 'though', 'a', 'good', 'fellow', 'enough', '--', 'so', 'it', 'was', 'no', 'great', 'surprise', 'to', 'me', 'to', 'hear', 'that', ',', 'in', 'the', 'height', 'of', 'his', 'glory', ',', 'he', 'had', 'dropped', 'his', 'painting', ',', 'married', 'a', 'rich', 'widow', ',', 'and', 'established', 'himself']\n"
          ]
        }
      ]
    },
    {
      "cell_type": "markdown",
      "source": [
        "## Convert tokens into token IDs"
      ],
      "metadata": {
        "id": "5EfSJvDD9WlA"
      }
    },
    {
      "cell_type": "code",
      "source": [
        "set_of_all_words = sorted(set(preprocessed))\n",
        "print(set_of_all_words)"
      ],
      "metadata": {
        "colab": {
          "base_uri": "https://localhost:8080/"
        },
        "id": "oQxXvDgO7K_o",
        "outputId": "eb09106f-4056-44c4-f14b-a638938e6f3c"
      },
      "execution_count": 24,
      "outputs": [
        {
          "output_type": "stream",
          "name": "stdout",
          "text": [
            "['!', '\"', \"'\", '(', ')', ',', '--', '.', ':', ';', '?', 'A', 'Ah', 'Among', 'And', 'Are', 'Arrt', 'As', 'At', 'Be', 'Begin', 'Burlington', 'But', 'By', 'Carlo', 'Chicago', 'Claude', 'Come', 'Croft', 'Destroyed', 'Devonshire', 'Don', 'Dubarry', 'Emperors', 'Florence', 'For', 'Gallery', 'Gideon', 'Gisburn', 'Gisburns', 'Grafton', 'Greek', 'Grindle', 'Grindles', 'HAD', 'Had', 'Hang', 'Has', 'He', 'Her', 'Hermia', 'His', 'How', 'I', 'If', 'In', 'It', 'Jack', 'Jove', 'Just', 'Lord', 'Made', 'Miss', 'Money', 'Monte', 'Moon-dancers', 'Mr', 'Mrs', 'My', 'Never', 'No', 'Now', 'Nutley', 'Of', 'Oh', 'On', 'Once', 'Only', 'Or', 'Perhaps', 'Poor', 'Professional', 'Renaissance', 'Rickham', 'Riviera', 'Rome', 'Russian', 'Sevres', 'She', 'Stroud', 'Strouds', 'Suddenly', 'That', 'The', 'Then', 'There', 'They', 'This', 'Those', 'Though', 'Thwing', 'Thwings', 'To', 'Usually', 'Venetian', 'Victor', 'Was', 'We', 'Well', 'What', 'When', 'Why', 'Yes', 'You', '_', 'a', 'abdication', 'able', 'about', 'above', 'abruptly', 'absolute', 'absorbed', 'absurdity', 'academic', 'accuse', 'accustomed', 'across', 'activity', 'add', 'added', 'admirers', 'adopted', 'adulation', 'advance', 'aesthetic', 'affect', 'afraid', 'after', 'afterward', 'again', 'ago', 'ah', 'air', 'alive', 'all', 'almost', 'alone', 'along', 'always', 'am', 'amazement', 'amid', 'among', 'amplest', 'amusing', 'an', 'and', 'another', 'answer', 'answered', 'any', 'anything', 'anywhere', 'apparent', 'apparently', 'appearance', 'appeared', 'appointed', 'are', 'arm', 'arm-chair', 'arm-chairs', 'arms', 'art', 'articles', 'artist', 'as', 'aside', 'asked', 'at', 'atmosphere', 'atom', 'attack', 'attention', 'attitude', 'audacities', 'away', 'awful', 'axioms', 'azaleas', 'back', 'background', 'balance', 'balancing', 'balustraded', 'basking', 'bath-rooms', 'be', 'beaming', 'bean-stalk', 'bear', 'beard', 'beauty', 'became', 'because', 'becoming', 'bed', 'been', 'before', 'began', 'begun', 'behind', 'being', 'believed', 'beneath', 'bespoke', 'better', 'between', 'big', 'bits', 'bitterness', 'blocked', 'born', 'borne', 'boudoir', 'bravura', 'break', 'breaking', 'breathing', 'bric-a-brac', 'briefly', 'brings', 'bronzes', 'brought', 'brown', 'brush', 'bull', 'business', 'but', 'buying', 'by', 'called', 'came', 'can', 'canvas', 'canvases', 'cards', 'care', 'career', 'caught', 'central', 'chair', 'chap', 'characteristic', 'charming', 'cheap', 'check', 'cheeks', 'chest', 'chimney-piece', 'chucked', 'cigar', 'cigarette', 'cigars', 'circulation', 'circumstance', 'circus-clown', 'claimed', 'clasping', 'clear', 'cleverer', 'close', 'clue', 'coat', 'collapsed', 'colour', 'come', 'comfortable', 'coming', 'companion', 'compared', 'complex', 'confident', 'congesting', 'conjugal', 'constraint', 'consummate', 'contended', 'continued', 'corner', 'corrected', 'could', 'couldn', 'count', 'countenance', 'couple', 'course', 'covered', 'craft', 'cried', 'crossed', 'crowned', 'crumbled', 'cry', 'cured', 'curiosity', 'curious', 'current', 'curtains', 'd', 'dabble', 'damask', 'dark', 'dashed', 'day', 'days', 'dead', 'deadening', 'dear', 'deep', 'deerhound', 'degree', 'delicate', 'demand', 'denied', 'deploring', 'deprecating', 'deprecatingly', 'desire', 'destroyed', 'destruction', 'desultory', 'detail', 'diagnosis', 'did', 'didn', 'died', 'dim', 'dimmest', 'dingy', 'dining-room', 'disarming', 'discovery', 'discrimination', 'discussion', 'disdain', 'disdained', 'disease', 'disguised', 'display', 'dissatisfied', 'distinguished', 'distract', 'divert', 'do', 'doesn', 'doing', 'domestic', 'don', 'done', 'donkey', 'down', 'dozen', 'dragged', 'drawing-room', 'drawing-rooms', 'drawn', 'dress-closets', 'drew', 'dropped', 'each', 'earth', 'ease', 'easel', 'easy', 'echoed', 'economy', 'effect', 'effects', 'efforts', 'egregious', 'eighteenth-century', 'elbow', 'elegant', 'else', 'embarrassed', 'enabled', 'end', 'endless', 'enjoy', 'enlightenment', 'enough', 'ensuing', 'equally', 'equanimity', 'escape', 'established', 'etching', 'even', 'event', 'ever', 'everlasting', 'every', 'exasperated', 'except', 'excuse', 'excusing', 'existed', 'expected', 'exquisite', 'exquisitely', 'extenuation', 'exterminating', 'extracting', 'eye', 'eyebrows', 'eyes', 'face', 'faces', 'fact', 'faded', 'failed', 'failure', 'fair', 'faith', 'false', 'familiar', 'famille-verte', 'fancy', 'fashionable', 'fate', 'feather', 'feet', 'fell', 'fellow', 'felt', 'few', 'fewer', 'finality', 'find', 'fingers', 'first', 'fit', 'fitting', 'five', 'flash', 'flashed', 'florid', 'flowers', 'fluently', 'flung', 'follow', 'followed', 'fond', 'footstep', 'for', 'forced', 'forcing', 'forehead', 'foreign', 'foreseen', 'forgive', 'forgotten', 'form', 'formed', 'forming', 'forward', 'fostered', 'found', 'foundations', 'fragment', 'fragments', 'frame', 'frames', 'frequently', 'friend', 'from', 'full', 'fullest', 'furiously', 'furrowed', 'garlanded', 'garlands', 'gave', 'genial', 'genius', 'gesture', 'get', 'getting', 'give', 'given', 'glad', 'glanced', 'glimpse', 'gloried', 'glory', 'go', 'going', 'gone', 'good', 'good-breeding', 'good-humoured', 'got', 'grace', 'gradually', 'gray', 'grayish', 'great', 'greatest', 'greatness', 'grew', 'groping', 'growing', 'had', 'hadn', 'hair', 'half', 'half-light', 'half-mechanically', 'hall', 'hand', 'hands', 'handsome', 'hanging', 'happen', 'happened', 'hard', 'hardly', 'has', 'have', 'haven', 'having', 'he', 'head', 'hear', 'heard', 'heart', 'height', 'her', 'here', 'hermit', 'herself', 'hesitations', 'hide', 'high', 'him', 'himself', 'hint', 'his', 'history', 'holding', 'home', 'honour', 'hooded', 'hostess', 'hot-house', 'hour', 'hours', 'house', 'how', 'hung', 'husband', 'idea', 'idle', 'idling', 'if', 'immediately', 'in', 'incense', 'indifferent', 'inevitable', 'inevitably', 'inflexible', 'insensible', 'insignificant', 'instinctively', 'instructive', 'interesting', 'into', 'ironic', 'irony', 'irrelevance', 'irrevocable', 'is', 'it', 'its', 'itself', 'jardiniere', 'jealousy', 'just', 'keep', 'kept', 'kind', 'knees', 'knew', 'know', 'known', 'laid', 'lair', 'landing', 'language', 'last', 'late', 'later', 'latter', 'laugh', 'laughed', 'lay', 'leading', 'lean', 'learned', 'least', 'leathery', 'leave', 'led', 'left', 'leisure', 'lends', 'lent', 'let', 'lies', 'life', 'life-likeness', 'lift', 'lifted', 'light', 'lightly', 'like', 'liked', 'line', 'lines', 'lingered', 'lips', 'lit', 'little', 'live', 'll', 'loathing', 'long', 'longed', 'longer', 'look', 'looked', 'looking', 'lose', 'loss', 'lounging', 'lovely', 'lucky', 'lump', 'luncheon-table', 'luxury', 'lying', 'made', 'make', 'man', 'manage', 'managed', 'mantel-piece', 'marble', 'married', 'may', 'me', 'meant', 'mediocrity', 'medium', 'mentioned', 'mere', 'merely', 'met', 'might', 'mighty', 'millionaire', 'mine', 'minute', 'minutes', 'mirrors', 'modest', 'modesty', 'moment', 'money', 'monumental', 'mood', 'morbidly', 'more', 'most', 'mourn', 'mourned', 'moustache', 'moved', 'much', 'muddling', 'multiplied', 'murmur', 'muscles', 'must', 'my', 'myself', 'mysterious', 'naive', 'near', 'nearly', 'negatived', 'nervous', 'nervousness', 'neutral', 'never', 'next', 'no', 'none', 'not', 'note', 'nothing', 'now', 'nymphs', 'oak', 'obituary', 'object', 'objects', 'occurred', 'oddly', 'of', 'off', 'often', 'oh', 'old', 'on', 'once', 'one', 'ones', 'only', 'onto', 'open', 'or', 'other', 'our', 'ourselves', 'out', 'outline', 'oval', 'over', 'own', 'packed', 'paid', 'paint', 'painted', 'painter', 'painting', 'pale', 'paled', 'palm-trees', 'panel', 'panelling', 'pardonable', 'pardoned', 'part', 'passages', 'passing', 'past', 'pastels', 'pathos', 'patient', 'people', 'perceptible', 'perfect', 'persistence', 'persuasively', 'phrase', 'picture', 'pictures', 'pines', 'pink', 'place', 'placed', 'plain', 'platitudes', 'pleased', 'pockets', 'point', 'poised', 'poor', 'portrait', 'posing', 'possessed', 'poverty', 'predicted', 'preliminary', 'presenting', 'prestidigitation', 'pretty', 'previous', 'price', 'pride', 'princely', 'prism', 'problem', 'proclaiming', 'prodigious', 'profusion', 'protest', 'prove', 'public', 'purblind', 'purely', 'pushed', 'put', 'qualities', 'quality', 'queerly', 'question', 'quickly', 'quietly', 'quite', 'quote', 'rain', 'raised', 'random', 'rather', 're', 'real', 'really', 'reared', 'reason', 'reassurance', 'recovering', 'recreated', 'reflected', 'reflection', 'regrets', 'relatively', 'remained', 'remember', 'reminded', 'repeating', 'represented', 'reproduction', 'resented', 'resolve', 'resources', 'rest', 'rich', 'ridiculous', 'robbed', 'romantic', 'room', 'rose', 'rs', 'rule', 'run', 's', 'said', 'same', 'satisfaction', 'savour', 'saw', 'say', 'saying', 'says', 'scorn', 'scornful', 'secret', 'see', 'seemed', 'seen', 'self-confident', 'send', 'sensation', 'sensitive', 'sent', 'serious', 'set', 'sex', 'shade', 'shaking', 'shall', 'she', 'shirked', 'short', 'should', 'shoulder', 'shoulders', 'show', 'showed', 'showy', 'shrug', 'shrugged', 'sight', 'sign', 'silent', 'silver', 'similar', 'simpleton', 'simplifications', 'simply', 'since', 'single', 'sitter', 'sitters', 'sketch', 'skill', 'slight', 'slightly', 'slowly', 'small', 'smile', 'smiling', 'sneer', 'so', 'solace', 'some', 'somebody', 'something', 'spacious', 'spaniel', 'speaking-tubes', 'speculations', 'spite', 'splash', 'square', 'stairs', 'stammer', 'stand', 'standing', 'started', 'stay', 'still', 'stocked', 'stood', 'stopped', 'stopping', 'straddling', 'straight', 'strain', 'straining', 'strange', 'straw', 'stream', 'stroke', 'strokes', 'strolled', 'strongest', 'strongly', 'struck', 'studio', 'stuff', 'subject', 'substantial', 'suburban', 'such', 'suddenly', 'suffered', 'sugar', 'suggested', 'sunburn', 'sunburnt', 'sunlit', 'superb', 'sure', 'surest', 'surface', 'surprise', 'surprised', 'surrounded', 'suspected', 'sweetly', 'sweetness', 'swelling', 'swept', 'swum', 't', 'table', 'take', 'taken', 'talking', 'tea', 'tears', 'technicalities', 'technique', 'tell', 'tells', 'tempting', 'terra-cotta', 'terrace', 'terraces', 'terribly', 'than', 'that', 'the', 'their', 'them', 'then', 'there', 'therefore', 'they', 'thin', 'thing', 'things', 'think', 'this', 'thither', 'those', 'though', 'thought', 'three', 'threshold', 'threw', 'through', 'throwing', 'tie', 'till', 'time', 'timorously', 'tinge', 'tips', 'tired', 'to', 'told', 'tone', 'tones', 'too', 'took', 'tottering', 'touched', 'toward', 'trace', 'trade', 'transmute', 'traps', 'travelled', 'tribute', 'tributes', 'tricks', 'tried', 'trouser-presses', 'true', 'truth', 'turned', 'twenty', 'twenty-four', 'twice', 'twirling', 'unaccountable', 'uncertain', 'under', 'underlay', 'underneath', 'understand', 'unexpected', 'untouched', 'unusual', 'up', 'up-stream', 'upon', 'upset', 'upstairs', 'us', 'used', 'usual', 'value', 'varnishing', 'vases', 've', 'veins', 'velveteen', 'very', 'villa', 'vindicated', 'virtuosity', 'vista', 'vocation', 'voice', 'wall', 'wander', 'want', 'wanted', 'wants', 'was', 'wasn', 'watched', 'watching', 'water-colour', 'waves', 'way', 'weekly', 'weeks', 'welcome', 'went', 'were', 'what', 'when', 'whenever', 'where', 'which', 'while', 'white', 'white-panelled', 'who', 'whole', 'whom', 'why', 'wide', 'widow', 'wife', 'wild', 'wincing', 'window-curtains', 'wish', 'with', 'without', 'wits', 'woman', 'women', 'won', 'wonder', 'wondered', 'word', 'work', 'working', 'worth', 'would', 'wouldn', 'year', 'years', 'yellow', 'yet', 'you', 'younger', 'your', 'yourself']\n"
          ]
        }
      ]
    },
    {
      "cell_type": "code",
      "source": [
        "vocab_size = len(set_of_all_words)\n",
        "print(vocab_size)"
      ],
      "metadata": {
        "colab": {
          "base_uri": "https://localhost:8080/"
        },
        "id": "-qhp7tYY9lny",
        "outputId": "3edcbb4e-c381-4d9f-bd46-2c58e73ad029"
      },
      "execution_count": 25,
      "outputs": [
        {
          "output_type": "stream",
          "name": "stdout",
          "text": [
            "1130\n"
          ]
        }
      ]
    },
    {
      "cell_type": "code",
      "source": [
        "# print some vocab\n",
        "vocab = {token:integer for integer, token in enumerate(set_of_all_words)}\n",
        "\n",
        "for i, token in enumerate(vocab.items()):\n",
        "  print(token)\n",
        "  if i == 50:\n",
        "    break"
      ],
      "metadata": {
        "colab": {
          "base_uri": "https://localhost:8080/"
        },
        "id": "uYQcGAmZ98Dq",
        "outputId": "f22de95e-55f8-4bf4-eb57-37511ae7776f"
      },
      "execution_count": 26,
      "outputs": [
        {
          "output_type": "stream",
          "name": "stdout",
          "text": [
            "('!', 0)\n",
            "('\"', 1)\n",
            "(\"'\", 2)\n",
            "('(', 3)\n",
            "(')', 4)\n",
            "(',', 5)\n",
            "('--', 6)\n",
            "('.', 7)\n",
            "(':', 8)\n",
            "(';', 9)\n",
            "('?', 10)\n",
            "('A', 11)\n",
            "('Ah', 12)\n",
            "('Among', 13)\n",
            "('And', 14)\n",
            "('Are', 15)\n",
            "('Arrt', 16)\n",
            "('As', 17)\n",
            "('At', 18)\n",
            "('Be', 19)\n",
            "('Begin', 20)\n",
            "('Burlington', 21)\n",
            "('But', 22)\n",
            "('By', 23)\n",
            "('Carlo', 24)\n",
            "('Chicago', 25)\n",
            "('Claude', 26)\n",
            "('Come', 27)\n",
            "('Croft', 28)\n",
            "('Destroyed', 29)\n",
            "('Devonshire', 30)\n",
            "('Don', 31)\n",
            "('Dubarry', 32)\n",
            "('Emperors', 33)\n",
            "('Florence', 34)\n",
            "('For', 35)\n",
            "('Gallery', 36)\n",
            "('Gideon', 37)\n",
            "('Gisburn', 38)\n",
            "('Gisburns', 39)\n",
            "('Grafton', 40)\n",
            "('Greek', 41)\n",
            "('Grindle', 42)\n",
            "('Grindles', 43)\n",
            "('HAD', 44)\n",
            "('Had', 45)\n",
            "('Hang', 46)\n",
            "('Has', 47)\n",
            "('He', 48)\n",
            "('Her', 49)\n",
            "('Hermia', 50)\n"
          ]
        }
      ]
    },
    {
      "cell_type": "markdown",
      "source": [
        "## Implement a Complete Simple Tokenizer"
      ],
      "metadata": {
        "id": "SuF-ZVbJ_E3X"
      }
    },
    {
      "cell_type": "code",
      "source": [
        "class SimpleTokenizerV1:\n",
        "  def __init__(self, vocab):\n",
        "    self.word_to_id = vocab\n",
        "    self.id_to_word = {id:word for word, id in vocab.items()}\n",
        "\n",
        "  # word --> id (tokenize)\n",
        "  def encode(self, text):\n",
        "    preprocessed = re.split(r'([,.:;?_!\"()\\'\\s]|--)', text)\n",
        "    preprocessed = [word for word in preprocessed if word.strip()]\n",
        "    id_list = [self.word_to_id[word] for word in preprocessed]\n",
        "    return id_list\n",
        "\n",
        "  # id --> word (detokenize)\n",
        "  def decode(self, id_list):\n",
        "    word_list = [self.id_to_word[id] for id in id_list]\n",
        "    text_with_white_space = \" \".join(word_list)\n",
        "    # remove space before punctuations\n",
        "    text = re.sub(r'\\s+([,.:;?_!\"()\\'])', r'\\1', text_with_white_space)\n",
        "    return text"
      ],
      "metadata": {
        "id": "46O-l6y1-2cj"
      },
      "execution_count": 27,
      "outputs": []
    },
    {
      "cell_type": "code",
      "source": [
        "simple_tokenizer = SimpleTokenizerV1(vocab)\n",
        "\n",
        "text = \"\"\"\"It's the last he painted, you know,\"\n",
        "Mrs. Gisburn said with pardonable pride.\"\"\"\n",
        "\n",
        "id_list = simple_tokenizer.encode(text)\n",
        "print(id_list)"
      ],
      "metadata": {
        "colab": {
          "base_uri": "https://localhost:8080/"
        },
        "id": "W7oXLHf1BLLS",
        "outputId": "3034dc96-7224-47cb-8e7d-d40b46e3932d"
      },
      "execution_count": 28,
      "outputs": [
        {
          "output_type": "stream",
          "name": "stdout",
          "text": [
            "[1, 56, 2, 850, 988, 602, 533, 746, 5, 1126, 596, 5, 1, 67, 7, 38, 851, 1108, 754, 793, 7]\n"
          ]
        }
      ]
    },
    {
      "cell_type": "code",
      "source": [
        "print(simple_tokenizer.decode(id_list))"
      ],
      "metadata": {
        "colab": {
          "base_uri": "https://localhost:8080/"
        },
        "id": "wcueE41RBtdV",
        "outputId": "7b250da1-7445-4c49-9733-4f9ac3701b30"
      },
      "execution_count": 29,
      "outputs": [
        {
          "output_type": "stream",
          "name": "stdout",
          "text": [
            "\" It' s the last he painted, you know,\" Mrs. Gisburn said with pardonable pride.\n"
          ]
        }
      ]
    },
    {
      "cell_type": "markdown",
      "source": [
        "Our simple tokenizer works, but it cannot work on the data out of the text."
      ],
      "metadata": {
        "id": "qj2zzmxkEsDR"
      }
    },
    {
      "cell_type": "markdown",
      "source": [
        "## Adding Special Context Tokens"
      ],
      "metadata": {
        "id": "2W7IC1NqE5O1"
      }
    },
    {
      "cell_type": "code",
      "source": [
        "list_of_all_words = sorted(list(set(preprocessed)))\n",
        "list_of_all_words.extend([\"<|unk|>\", \"<|endoftext|>\"])\n",
        "vocab = {word:id for id, word in enumerate(list_of_all_words)}\n",
        "\n",
        "print(len(vocab.items()))\n",
        "\n",
        "for i, word in enumerate(list(vocab.items())[-10:]):\n",
        "  print(word)"
      ],
      "metadata": {
        "colab": {
          "base_uri": "https://localhost:8080/"
        },
        "id": "rxBfNLw4E75U",
        "outputId": "f53a2095-958f-4def-d483-e576176ccaaa"
      },
      "execution_count": 30,
      "outputs": [
        {
          "output_type": "stream",
          "name": "stdout",
          "text": [
            "1132\n",
            "('year', 1122)\n",
            "('years', 1123)\n",
            "('yellow', 1124)\n",
            "('yet', 1125)\n",
            "('you', 1126)\n",
            "('younger', 1127)\n",
            "('your', 1128)\n",
            "('yourself', 1129)\n",
            "('<|unk|>', 1130)\n",
            "('<|endoftext|>', 1131)\n"
          ]
        }
      ]
    },
    {
      "cell_type": "markdown",
      "source": [
        "## Implement a Simple Tokenizer That Handles Unknown Words"
      ],
      "metadata": {
        "id": "9ftebhi8mNPG"
      }
    },
    {
      "cell_type": "code",
      "source": [
        "class SimpleTokenizerV2:\n",
        "  def __init__(self, vocab):\n",
        "    self.word_to_id = vocab\n",
        "    self.id_to_word = {id:word for word, id in vocab.items()}\n",
        "\n",
        "  # word --> id (tokenizer)\n",
        "  def encode(self, text):\n",
        "    preprocessed = re.split(r'([,.:;?_!\"()\\'\\s]|--)', text)\n",
        "    preprocessed = [word for word in preprocessed if word.strip()]\n",
        "    # handle unknown words\n",
        "    word_list = [word if word in self.word_to_id\n",
        "              else \"<|unk|>\" for word in preprocessed]\n",
        "    id_list = [self.word_to_id[word] for word in word_list]\n",
        "    return id_list\n",
        "\n",
        "  # id --> word (detokenizer)\n",
        "  def decode(self, id_list):\n",
        "    word_list = [self.id_to_word[id] for id in id_list]\n",
        "    text_with_white_space = \" \".join(word_list)\n",
        "    # remove space before punctuations\n",
        "    text = re.sub(r'\\s+([,.:;?_!\"()\\'])', r'\\1', text_with_white_space)\n",
        "    return text"
      ],
      "metadata": {
        "id": "sdU2aFVKk2bg"
      },
      "execution_count": 36,
      "outputs": []
    },
    {
      "cell_type": "markdown",
      "source": [
        "Let's test our new tokenizer:"
      ],
      "metadata": {
        "id": "ZeXnWFITpYhb"
      }
    },
    {
      "cell_type": "code",
      "source": [
        "text1 = \"\"\"\"In the midst of winter, I found, within me,\n",
        " an invincible summer\" said Albert Camus\"\"\"\n",
        "text2 = \"\"\"Happy Hunger Games, and may the odds be ever in your favor.\"\"\"\n",
        "\n",
        "text = \" <|endoftext|> \".join((text1, text2))\n",
        "print(text)"
      ],
      "metadata": {
        "colab": {
          "base_uri": "https://localhost:8080/"
        },
        "id": "x5oCtkcOmdMD",
        "outputId": "ca39248d-16ef-4f39-d8b0-b0d3333cf8b2"
      },
      "execution_count": 37,
      "outputs": [
        {
          "output_type": "stream",
          "name": "stdout",
          "text": [
            "\"In the midst of winter, I found, within me,\n",
            " an invincible summer\" said Albert Camus <|endoftext|> Happy Hunger Games, and may the odds be ever in your favor.\n"
          ]
        }
      ]
    },
    {
      "cell_type": "code",
      "source": [
        "tokenizerv2 = SimpleTokenizerV2(vocab)\n",
        "print(tokenizerv2.encode(text))"
      ],
      "metadata": {
        "colab": {
          "base_uri": "https://localhost:8080/"
        },
        "id": "l3AXg9dvqJmt",
        "outputId": "74ce336f-02a1-4f32-e67f-eb816abef75d"
      },
      "execution_count": 38,
      "outputs": [
        {
          "output_type": "stream",
          "name": "stdout",
          "text": [
            "[1, 55, 988, 1130, 722, 1130, 5, 53, 469, 5, 1130, 663, 5, 156, 1130, 1130, 1, 851, 1130, 1130, 1131, 1130, 1130, 1130, 5, 157, 662, 988, 1130, 198, 401, 568, 1128, 1130, 7]\n"
          ]
        }
      ]
    },
    {
      "cell_type": "code",
      "source": [
        "print(tokenizerv2.decode(tokenizerv2.encode(text)))"
      ],
      "metadata": {
        "colab": {
          "base_uri": "https://localhost:8080/"
        },
        "id": "_KdFxc0Eqfnc",
        "outputId": "a3109eee-28a1-4499-db4c-5e409eaeaee3"
      },
      "execution_count": 39,
      "outputs": [
        {
          "output_type": "stream",
          "name": "stdout",
          "text": [
            "\" In the <|unk|> of <|unk|>, I found, <|unk|> me, an <|unk|> <|unk|>\" said <|unk|> <|unk|> <|endoftext|> <|unk|> <|unk|> <|unk|>, and may the <|unk|> be ever in your <|unk|>.\n"
          ]
        }
      ]
    },
    {
      "cell_type": "markdown",
      "source": [
        "## Byte Pair Encoding (PBE)\n",
        "\n",
        "To handle unknown words at ease, we tokenize subword instead:\n",
        "\n",
        "[tiktoken doc](https://github.com/openai/openai-cookbook/blob/main/examples/How_to_count_tokens_with_tiktoken.ipynb)"
      ],
      "metadata": {
        "id": "JUnxGBrBsP70"
      }
    },
    {
      "cell_type": "code",
      "source": [
        "from importlib_metadata import version\n",
        "import tiktoken\n",
        "\n",
        "print(\"tiktoken version: \", version(\"tiktoken\"))\n",
        "print(tiktoken.encoding_for_model(\"gpt-3.5-turbo\"))\n",
        "print(tiktoken.encoding_for_model(\"gpt-3.5-turbo\").n_vocab)\n",
        "print(tiktoken.list_encoding_names())"
      ],
      "metadata": {
        "colab": {
          "base_uri": "https://localhost:8080/"
        },
        "id": "Osl5tnXAqqDl",
        "outputId": "3d8cbc81-4404-4721-c567-a4008702e676"
      },
      "execution_count": 50,
      "outputs": [
        {
          "output_type": "stream",
          "name": "stdout",
          "text": [
            "tiktoken version:  0.9.0\n",
            "<Encoding 'cl100k_base'>\n",
            "100277\n",
            "['gpt2', 'r50k_base', 'p50k_base', 'p50k_edit', 'cl100k_base', 'o200k_base']\n"
          ]
        }
      ]
    },
    {
      "cell_type": "code",
      "source": [
        "bpe_tokenizer = tiktoken.get_encoding(\"gpt2\")\n",
        "print(bpe_tokenizer.n_vocab)\n",
        "print(text)"
      ],
      "metadata": {
        "colab": {
          "base_uri": "https://localhost:8080/"
        },
        "id": "jB-xqiXZskys",
        "outputId": "546c3513-bf41-40cc-c114-584289bc2321"
      },
      "execution_count": 52,
      "outputs": [
        {
          "output_type": "stream",
          "name": "stdout",
          "text": [
            "50257\n",
            "\"In the midst of winter, I found, within me,\n",
            " an invincible summer\" said Albert Camus <|endoftext|> Happy Hunger Games, and may the odds be ever in your favor.\n"
          ]
        }
      ]
    },
    {
      "cell_type": "code",
      "source": [
        "id_list = bpe_tokenizer.encode(text, allowed_special={\"<|endoftext|>\"})\n",
        "print(id_list)"
      ],
      "metadata": {
        "colab": {
          "base_uri": "https://localhost:8080/"
        },
        "id": "3fvAn23tvoD_",
        "outputId": "3094a664-4752-435e-8604-937ace5f2df8"
      },
      "execution_count": 53,
      "outputs": [
        {
          "output_type": "stream",
          "name": "stdout",
          "text": [
            "[1, 818, 262, 15925, 286, 7374, 11, 314, 1043, 11, 1626, 502, 11, 198, 281, 46038, 3931, 1, 531, 9966, 7298, 385, 220, 50256, 14628, 32367, 5776, 11, 290, 743, 262, 10402, 307, 1683, 287, 534, 2661, 13]\n"
          ]
        }
      ]
    },
    {
      "cell_type": "code",
      "source": [
        "decoded_text = bpe_tokenizer.decode(id_list)\n",
        "print(decoded_text)"
      ],
      "metadata": {
        "colab": {
          "base_uri": "https://localhost:8080/"
        },
        "id": "sT_eWsEgv5So",
        "outputId": "a46a33e7-379c-48d2-94ce-ba49b7fee230"
      },
      "execution_count": 54,
      "outputs": [
        {
          "output_type": "stream",
          "name": "stdout",
          "text": [
            "\"In the midst of winter, I found, within me,\n",
            " an invincible summer\" said Albert Camus <|endoftext|> Happy Hunger Games, and may the odds be ever in your favor.\n"
          ]
        }
      ]
    },
    {
      "cell_type": "code",
      "source": [
        "# let's decode into byte\n",
        "decoded_text_byte = [bpe_tokenizer.decode_single_token_bytes(token)\n",
        "                    for token in id_list]\n",
        "for token in decoded_text_byte:\n",
        "  #print(token.decode(\"utf-8\"))\n",
        "  print(token)"
      ],
      "metadata": {
        "colab": {
          "base_uri": "https://localhost:8080/"
        },
        "id": "qK0weqTPwAS1",
        "outputId": "b977afd0-17a2-410c-fee2-5a4c8abdb82e"
      },
      "execution_count": 58,
      "outputs": [
        {
          "output_type": "stream",
          "name": "stdout",
          "text": [
            "[b'\"', b'In', b' the', b' midst', b' of', b' winter', b',', b' I', b' found', b',', b' within', b' me', b',', b'\\n', b' an', b' invincible', b' summer', b'\"', b' said', b' Albert', b' Cam', b'us', b' ', b'<|endoftext|>', b' Happy', b' Hunger', b' Games', b',', b' and', b' may', b' the', b' odds', b' be', b' ever', b' in', b' your', b' favor', b'.']\n",
            "b'\"'\n",
            "b'In'\n",
            "b' the'\n",
            "b' midst'\n",
            "b' of'\n",
            "b' winter'\n",
            "b','\n",
            "b' I'\n",
            "b' found'\n",
            "b','\n",
            "b' within'\n",
            "b' me'\n",
            "b','\n",
            "b'\\n'\n",
            "b' an'\n",
            "b' invincible'\n",
            "b' summer'\n",
            "b'\"'\n",
            "b' said'\n",
            "b' Albert'\n",
            "b' Cam'\n",
            "b'us'\n",
            "b' '\n",
            "b'<|endoftext|>'\n",
            "b' Happy'\n",
            "b' Hunger'\n",
            "b' Games'\n",
            "b','\n",
            "b' and'\n",
            "b' may'\n",
            "b' the'\n",
            "b' odds'\n",
            "b' be'\n",
            "b' ever'\n",
            "b' in'\n",
            "b' your'\n",
            "b' favor'\n",
            "b'.'\n"
          ]
        }
      ]
    },
    {
      "cell_type": "markdown",
      "source": [
        "## Comparing Trained LLM Tokenizers From HuggingFace\n",
        "\n",
        "[color combination](https://coolors.co/)"
      ],
      "metadata": {
        "id": "-BaUI0al00fu"
      }
    },
    {
      "cell_type": "code",
      "source": [
        "# recommended\n",
        "# colors_list = [ #'R;B;G'\n",
        "#     '102;194;165', '252;141;98', '141;160;203',\n",
        "#     '231;138;195', '166;216;84', '255;217;47'\n",
        "# ]\n",
        "\n",
        "\n",
        "# colors_list = [ #'R;B;G'\n",
        "#     '244;241;222', '224;122;95', '61;64;91',\n",
        "#     '129;178;154', '242;204;143',\n",
        "# ]\n",
        "\n",
        "\n",
        "# colors_list = [ #'R;B;G'\n",
        "#     '255;190;11', '251;86;7', '255;0;110',\n",
        "#     '131;56;236', '58;134;255',\n",
        "# ]\n",
        "\n",
        "\n",
        "# # recommended\n",
        "# colors_list = [ #'R;B;G'\n",
        "#     '251;248;204', '253;228;207', '255;207;210',\n",
        "#     '241;192;232', '207;186;240', '163;196;243',\n",
        "#     '144;219;244', '142;236;245', '152;245;225',\n",
        "#     '185;251;192',\n",
        "# ]\n",
        "\n",
        "# recommended\n",
        "colors_list = [ #'R;B;G'\n",
        "    '255;173;173', '255;214;165', '253;255;182',\n",
        "    '253;255;182', '202;255;191', '155;246;255',\n",
        "    '160;196;255', '189;178;255', '255;198;225',\n",
        "    '255;255;252',\n",
        "]"
      ],
      "metadata": {
        "id": "XureqCiL5pMx"
      },
      "execution_count": 103,
      "outputs": []
    },
    {
      "cell_type": "code",
      "source": [
        "from transformers import AutoTokenizer, AutoModelForCausalLM\n",
        "\n",
        "def show_tokens(sentence, tokenizer_name):\n",
        "    tokenizer = AutoTokenizer.from_pretrained(tokenizer_name)\n",
        "    token_ids = tokenizer(sentence).input_ids\n",
        "    for idx, t in enumerate(token_ids):\n",
        "        print(\n",
        "            f'\\x1b[0;30;48;2;{colors_list[idx % len(colors_list)]}m' +\n",
        "            tokenizer.decode(t) +\n",
        "            '\\x1b[0m',\n",
        "            end=' '\n",
        "        )"
      ],
      "metadata": {
        "id": "_Wkzg3P10yet"
      },
      "execution_count": 104,
      "outputs": []
    },
    {
      "cell_type": "code",
      "source": [
        "text = \"\"\"\n",
        "English and CAPITALIZATION\n",
        "🎵 大模型語言\n",
        "show_tokens False None elif == >= else: two tabs:\"    \" Three tabs: \"       \"\n",
        "12.0*50=600\n",
        "\n",
        "def greet():\n",
        "  while True:\n",
        "    print(\"Hello World!\")\n",
        "\"\"\""
      ],
      "metadata": {
        "id": "_XJ_65dq1i2D"
      },
      "execution_count": 105,
      "outputs": []
    },
    {
      "cell_type": "code",
      "source": [
        "show_tokens(text, \"bert-base-uncased\")"
      ],
      "metadata": {
        "colab": {
          "base_uri": "https://localhost:8080/"
        },
        "id": "8sDygGGS2BfG",
        "outputId": "4a8953ab-3a5c-4b65-da3c-dc622f31afb7"
      },
      "execution_count": 106,
      "outputs": [
        {
          "output_type": "stream",
          "name": "stdout",
          "text": [
            "\u001b[0;30;48;2;255;173;173m[CLS]\u001b[0m \u001b[0;30;48;2;255;214;165menglish\u001b[0m \u001b[0;30;48;2;253;255;182mand\u001b[0m \u001b[0;30;48;2;253;255;182mcapital\u001b[0m \u001b[0;30;48;2;202;255;191m##ization\u001b[0m \u001b[0;30;48;2;155;246;255m[UNK]\u001b[0m \u001b[0;30;48;2;160;196;255m大\u001b[0m \u001b[0;30;48;2;189;178;255m[UNK]\u001b[0m \u001b[0;30;48;2;255;198;225m[UNK]\u001b[0m \u001b[0;30;48;2;255;255;252m語\u001b[0m \u001b[0;30;48;2;255;173;173m[UNK]\u001b[0m \u001b[0;30;48;2;255;214;165mshow\u001b[0m \u001b[0;30;48;2;253;255;182m_\u001b[0m \u001b[0;30;48;2;253;255;182mtoken\u001b[0m \u001b[0;30;48;2;202;255;191m##s\u001b[0m \u001b[0;30;48;2;155;246;255mfalse\u001b[0m \u001b[0;30;48;2;160;196;255mnone\u001b[0m \u001b[0;30;48;2;189;178;255meli\u001b[0m \u001b[0;30;48;2;255;198;225m##f\u001b[0m \u001b[0;30;48;2;255;255;252m=\u001b[0m \u001b[0;30;48;2;255;173;173m=\u001b[0m \u001b[0;30;48;2;255;214;165m>\u001b[0m \u001b[0;30;48;2;253;255;182m=\u001b[0m \u001b[0;30;48;2;253;255;182melse\u001b[0m \u001b[0;30;48;2;202;255;191m:\u001b[0m \u001b[0;30;48;2;155;246;255mtwo\u001b[0m \u001b[0;30;48;2;160;196;255mtab\u001b[0m \u001b[0;30;48;2;189;178;255m##s\u001b[0m \u001b[0;30;48;2;255;198;225m:\u001b[0m \u001b[0;30;48;2;255;255;252m\"\u001b[0m \u001b[0;30;48;2;255;173;173m\"\u001b[0m \u001b[0;30;48;2;255;214;165mthree\u001b[0m \u001b[0;30;48;2;253;255;182mtab\u001b[0m \u001b[0;30;48;2;253;255;182m##s\u001b[0m \u001b[0;30;48;2;202;255;191m:\u001b[0m \u001b[0;30;48;2;155;246;255m\"\u001b[0m \u001b[0;30;48;2;160;196;255m\"\u001b[0m \u001b[0;30;48;2;189;178;255m12\u001b[0m \u001b[0;30;48;2;255;198;225m.\u001b[0m \u001b[0;30;48;2;255;255;252m0\u001b[0m \u001b[0;30;48;2;255;173;173m*\u001b[0m \u001b[0;30;48;2;255;214;165m50\u001b[0m \u001b[0;30;48;2;253;255;182m=\u001b[0m \u001b[0;30;48;2;253;255;182m600\u001b[0m \u001b[0;30;48;2;202;255;191mdef\u001b[0m \u001b[0;30;48;2;155;246;255mgreet\u001b[0m \u001b[0;30;48;2;160;196;255m(\u001b[0m \u001b[0;30;48;2;189;178;255m)\u001b[0m \u001b[0;30;48;2;255;198;225m:\u001b[0m \u001b[0;30;48;2;255;255;252mwhile\u001b[0m \u001b[0;30;48;2;255;173;173mtrue\u001b[0m \u001b[0;30;48;2;255;214;165m:\u001b[0m \u001b[0;30;48;2;253;255;182mprint\u001b[0m \u001b[0;30;48;2;253;255;182m(\u001b[0m \u001b[0;30;48;2;202;255;191m\"\u001b[0m \u001b[0;30;48;2;155;246;255mhello\u001b[0m \u001b[0;30;48;2;160;196;255mworld\u001b[0m \u001b[0;30;48;2;189;178;255m!\u001b[0m \u001b[0;30;48;2;255;198;225m\"\u001b[0m \u001b[0;30;48;2;255;255;252m)\u001b[0m \u001b[0;30;48;2;255;173;173m[SEP]\u001b[0m "
          ]
        }
      ]
    },
    {
      "cell_type": "code",
      "source": [
        "show_tokens(text, \"bert-base-cased\")"
      ],
      "metadata": {
        "colab": {
          "base_uri": "https://localhost:8080/"
        },
        "id": "8pUHv3CP2hkk",
        "outputId": "72e9a543-07bf-4322-bd82-d14473c404e1"
      },
      "execution_count": 107,
      "outputs": [
        {
          "output_type": "stream",
          "name": "stdout",
          "text": [
            "\u001b[0;30;48;2;255;173;173m[CLS]\u001b[0m \u001b[0;30;48;2;255;214;165mEnglish\u001b[0m \u001b[0;30;48;2;253;255;182mand\u001b[0m \u001b[0;30;48;2;253;255;182mCA\u001b[0m \u001b[0;30;48;2;202;255;191m##PI\u001b[0m \u001b[0;30;48;2;155;246;255m##TA\u001b[0m \u001b[0;30;48;2;160;196;255m##L\u001b[0m \u001b[0;30;48;2;189;178;255m##I\u001b[0m \u001b[0;30;48;2;255;198;225m##Z\u001b[0m \u001b[0;30;48;2;255;255;252m##AT\u001b[0m \u001b[0;30;48;2;255;173;173m##ION\u001b[0m \u001b[0;30;48;2;255;214;165m[UNK]\u001b[0m \u001b[0;30;48;2;253;255;182m大\u001b[0m \u001b[0;30;48;2;253;255;182m[UNK]\u001b[0m \u001b[0;30;48;2;202;255;191m[UNK]\u001b[0m \u001b[0;30;48;2;155;246;255m[UNK]\u001b[0m \u001b[0;30;48;2;160;196;255m[UNK]\u001b[0m \u001b[0;30;48;2;189;178;255mshow\u001b[0m \u001b[0;30;48;2;255;198;225m_\u001b[0m \u001b[0;30;48;2;255;255;252mtoken\u001b[0m \u001b[0;30;48;2;255;173;173m##s\u001b[0m \u001b[0;30;48;2;255;214;165mF\u001b[0m \u001b[0;30;48;2;253;255;182m##als\u001b[0m \u001b[0;30;48;2;253;255;182m##e\u001b[0m \u001b[0;30;48;2;202;255;191mNone\u001b[0m \u001b[0;30;48;2;155;246;255mel\u001b[0m \u001b[0;30;48;2;160;196;255m##if\u001b[0m \u001b[0;30;48;2;189;178;255m=\u001b[0m \u001b[0;30;48;2;255;198;225m=\u001b[0m \u001b[0;30;48;2;255;255;252m>\u001b[0m \u001b[0;30;48;2;255;173;173m=\u001b[0m \u001b[0;30;48;2;255;214;165melse\u001b[0m \u001b[0;30;48;2;253;255;182m:\u001b[0m \u001b[0;30;48;2;253;255;182mtwo\u001b[0m \u001b[0;30;48;2;202;255;191mta\u001b[0m \u001b[0;30;48;2;155;246;255m##bs\u001b[0m \u001b[0;30;48;2;160;196;255m:\u001b[0m \u001b[0;30;48;2;189;178;255m\"\u001b[0m \u001b[0;30;48;2;255;198;225m\"\u001b[0m \u001b[0;30;48;2;255;255;252mThree\u001b[0m \u001b[0;30;48;2;255;173;173mta\u001b[0m \u001b[0;30;48;2;255;214;165m##bs\u001b[0m \u001b[0;30;48;2;253;255;182m:\u001b[0m \u001b[0;30;48;2;253;255;182m\"\u001b[0m \u001b[0;30;48;2;202;255;191m\"\u001b[0m \u001b[0;30;48;2;155;246;255m12\u001b[0m \u001b[0;30;48;2;160;196;255m.\u001b[0m \u001b[0;30;48;2;189;178;255m0\u001b[0m \u001b[0;30;48;2;255;198;225m*\u001b[0m \u001b[0;30;48;2;255;255;252m50\u001b[0m \u001b[0;30;48;2;255;173;173m=\u001b[0m \u001b[0;30;48;2;255;214;165m600\u001b[0m \u001b[0;30;48;2;253;255;182mdef\u001b[0m \u001b[0;30;48;2;253;255;182mgreet\u001b[0m \u001b[0;30;48;2;202;255;191m(\u001b[0m \u001b[0;30;48;2;155;246;255m)\u001b[0m \u001b[0;30;48;2;160;196;255m:\u001b[0m \u001b[0;30;48;2;189;178;255mwhile\u001b[0m \u001b[0;30;48;2;255;198;225mTrue\u001b[0m \u001b[0;30;48;2;255;255;252m:\u001b[0m \u001b[0;30;48;2;255;173;173mprint\u001b[0m \u001b[0;30;48;2;255;214;165m(\u001b[0m \u001b[0;30;48;2;253;255;182m\"\u001b[0m \u001b[0;30;48;2;253;255;182mHello\u001b[0m \u001b[0;30;48;2;202;255;191mWorld\u001b[0m \u001b[0;30;48;2;155;246;255m!\u001b[0m \u001b[0;30;48;2;160;196;255m\"\u001b[0m \u001b[0;30;48;2;189;178;255m)\u001b[0m \u001b[0;30;48;2;255;198;225m[SEP]\u001b[0m "
          ]
        }
      ]
    },
    {
      "cell_type": "code",
      "source": [
        "show_tokens(text, \"gpt2\")"
      ],
      "metadata": {
        "colab": {
          "base_uri": "https://localhost:8080/"
        },
        "id": "8CWRLWBC2nj8",
        "outputId": "9c207fd2-24ff-43ca-86cb-f3b113f80c46"
      },
      "execution_count": 108,
      "outputs": [
        {
          "output_type": "stream",
          "name": "stdout",
          "text": [
            "\u001b[0;30;48;2;255;173;173m\n",
            "\u001b[0m \u001b[0;30;48;2;255;214;165mEnglish\u001b[0m \u001b[0;30;48;2;253;255;182m and\u001b[0m \u001b[0;30;48;2;253;255;182m CAP\u001b[0m \u001b[0;30;48;2;202;255;191mITAL\u001b[0m \u001b[0;30;48;2;155;246;255mIZ\u001b[0m \u001b[0;30;48;2;160;196;255mATION\u001b[0m \u001b[0;30;48;2;189;178;255m\n",
            "\u001b[0m \u001b[0;30;48;2;255;198;225m�\u001b[0m \u001b[0;30;48;2;255;255;252m�\u001b[0m \u001b[0;30;48;2;255;173;173m�\u001b[0m \u001b[0;30;48;2;255;214;165m �\u001b[0m \u001b[0;30;48;2;253;255;182m�\u001b[0m \u001b[0;30;48;2;253;255;182m�\u001b[0m \u001b[0;30;48;2;202;255;191m�\u001b[0m \u001b[0;30;48;2;155;246;255m�\u001b[0m \u001b[0;30;48;2;160;196;255m�\u001b[0m \u001b[0;30;48;2;189;178;255m�\u001b[0m \u001b[0;30;48;2;255;198;225m�\u001b[0m \u001b[0;30;48;2;255;255;252m�\u001b[0m \u001b[0;30;48;2;255;173;173m�\u001b[0m \u001b[0;30;48;2;255;214;165m�\u001b[0m \u001b[0;30;48;2;253;255;182m�\u001b[0m \u001b[0;30;48;2;253;255;182m�\u001b[0m \u001b[0;30;48;2;202;255;191m\n",
            "\u001b[0m \u001b[0;30;48;2;155;246;255mshow\u001b[0m \u001b[0;30;48;2;160;196;255m_\u001b[0m \u001b[0;30;48;2;189;178;255mt\u001b[0m \u001b[0;30;48;2;255;198;225mok\u001b[0m \u001b[0;30;48;2;255;255;252mens\u001b[0m \u001b[0;30;48;2;255;173;173m False\u001b[0m \u001b[0;30;48;2;255;214;165m None\u001b[0m \u001b[0;30;48;2;253;255;182m el\u001b[0m \u001b[0;30;48;2;253;255;182mif\u001b[0m \u001b[0;30;48;2;202;255;191m ==\u001b[0m \u001b[0;30;48;2;155;246;255m >=\u001b[0m \u001b[0;30;48;2;160;196;255m else\u001b[0m \u001b[0;30;48;2;189;178;255m:\u001b[0m \u001b[0;30;48;2;255;198;225m two\u001b[0m \u001b[0;30;48;2;255;255;252m tabs\u001b[0m \u001b[0;30;48;2;255;173;173m:\"\u001b[0m \u001b[0;30;48;2;255;214;165m \u001b[0m \u001b[0;30;48;2;253;255;182m \u001b[0m \u001b[0;30;48;2;253;255;182m \u001b[0m \u001b[0;30;48;2;202;255;191m \"\u001b[0m \u001b[0;30;48;2;155;246;255m Three\u001b[0m \u001b[0;30;48;2;160;196;255m tabs\u001b[0m \u001b[0;30;48;2;189;178;255m:\u001b[0m \u001b[0;30;48;2;255;198;225m \"\u001b[0m \u001b[0;30;48;2;255;255;252m \u001b[0m \u001b[0;30;48;2;255;173;173m \u001b[0m \u001b[0;30;48;2;255;214;165m \u001b[0m \u001b[0;30;48;2;253;255;182m \u001b[0m \u001b[0;30;48;2;253;255;182m \u001b[0m \u001b[0;30;48;2;202;255;191m \u001b[0m \u001b[0;30;48;2;155;246;255m \"\u001b[0m \u001b[0;30;48;2;160;196;255m\n",
            "\u001b[0m \u001b[0;30;48;2;189;178;255m12\u001b[0m \u001b[0;30;48;2;255;198;225m.\u001b[0m \u001b[0;30;48;2;255;255;252m0\u001b[0m \u001b[0;30;48;2;255;173;173m*\u001b[0m \u001b[0;30;48;2;255;214;165m50\u001b[0m \u001b[0;30;48;2;253;255;182m=\u001b[0m \u001b[0;30;48;2;253;255;182m600\u001b[0m \u001b[0;30;48;2;202;255;191m\n",
            "\u001b[0m \u001b[0;30;48;2;155;246;255m\n",
            "\u001b[0m \u001b[0;30;48;2;160;196;255mdef\u001b[0m \u001b[0;30;48;2;189;178;255m greet\u001b[0m \u001b[0;30;48;2;255;198;225m():\u001b[0m \u001b[0;30;48;2;255;255;252m\n",
            "\u001b[0m \u001b[0;30;48;2;255;173;173m \u001b[0m \u001b[0;30;48;2;255;214;165m while\u001b[0m \u001b[0;30;48;2;253;255;182m True\u001b[0m \u001b[0;30;48;2;253;255;182m:\u001b[0m \u001b[0;30;48;2;202;255;191m\n",
            "\u001b[0m \u001b[0;30;48;2;155;246;255m \u001b[0m \u001b[0;30;48;2;160;196;255m \u001b[0m \u001b[0;30;48;2;189;178;255m \u001b[0m \u001b[0;30;48;2;255;198;225m print\u001b[0m \u001b[0;30;48;2;255;255;252m(\"\u001b[0m \u001b[0;30;48;2;255;173;173mHello\u001b[0m \u001b[0;30;48;2;255;214;165m World\u001b[0m \u001b[0;30;48;2;253;255;182m!\"\u001b[0m \u001b[0;30;48;2;253;255;182m)\u001b[0m \u001b[0;30;48;2;202;255;191m\n",
            "\u001b[0m "
          ]
        }
      ]
    },
    {
      "cell_type": "code",
      "source": [
        "show_tokens(text, \"google/flan-t5-small\")"
      ],
      "metadata": {
        "colab": {
          "base_uri": "https://localhost:8080/"
        },
        "id": "x3doV4Ap2nZQ",
        "outputId": "1dbc37b3-951b-4ab2-890f-92386fdfaeaf"
      },
      "execution_count": 109,
      "outputs": [
        {
          "output_type": "stream",
          "name": "stdout",
          "text": [
            "\u001b[0;30;48;2;255;173;173mEnglish\u001b[0m \u001b[0;30;48;2;255;214;165mand\u001b[0m \u001b[0;30;48;2;253;255;182mCA\u001b[0m \u001b[0;30;48;2;253;255;182mPI\u001b[0m \u001b[0;30;48;2;202;255;191mTAL\u001b[0m \u001b[0;30;48;2;155;246;255mIZ\u001b[0m \u001b[0;30;48;2;160;196;255mATION\u001b[0m \u001b[0;30;48;2;189;178;255m\u001b[0m \u001b[0;30;48;2;255;198;225m<unk>\u001b[0m \u001b[0;30;48;2;255;255;252m\u001b[0m \u001b[0;30;48;2;255;173;173m<unk>\u001b[0m \u001b[0;30;48;2;255;214;165mshow\u001b[0m \u001b[0;30;48;2;253;255;182m_\u001b[0m \u001b[0;30;48;2;253;255;182mto\u001b[0m \u001b[0;30;48;2;202;255;191mken\u001b[0m \u001b[0;30;48;2;155;246;255ms\u001b[0m \u001b[0;30;48;2;160;196;255mFal\u001b[0m \u001b[0;30;48;2;189;178;255ms\u001b[0m \u001b[0;30;48;2;255;198;225me\u001b[0m \u001b[0;30;48;2;255;255;252mNone\u001b[0m \u001b[0;30;48;2;255;173;173m\u001b[0m \u001b[0;30;48;2;255;214;165me\u001b[0m \u001b[0;30;48;2;253;255;182ml\u001b[0m \u001b[0;30;48;2;253;255;182mif\u001b[0m \u001b[0;30;48;2;202;255;191m=\u001b[0m \u001b[0;30;48;2;155;246;255m=\u001b[0m \u001b[0;30;48;2;160;196;255m>\u001b[0m \u001b[0;30;48;2;189;178;255m=\u001b[0m \u001b[0;30;48;2;255;198;225melse\u001b[0m \u001b[0;30;48;2;255;255;252m:\u001b[0m \u001b[0;30;48;2;255;173;173mtwo\u001b[0m \u001b[0;30;48;2;255;214;165mtab\u001b[0m \u001b[0;30;48;2;253;255;182ms\u001b[0m \u001b[0;30;48;2;253;255;182m:\u001b[0m \u001b[0;30;48;2;202;255;191m\"\u001b[0m \u001b[0;30;48;2;155;246;255m\"\u001b[0m \u001b[0;30;48;2;160;196;255mThree\u001b[0m \u001b[0;30;48;2;189;178;255mtab\u001b[0m \u001b[0;30;48;2;255;198;225ms\u001b[0m \u001b[0;30;48;2;255;255;252m:\u001b[0m \u001b[0;30;48;2;255;173;173m\"\u001b[0m \u001b[0;30;48;2;255;214;165m\"\u001b[0m \u001b[0;30;48;2;253;255;182m12.\u001b[0m \u001b[0;30;48;2;253;255;182m0\u001b[0m \u001b[0;30;48;2;202;255;191m*\u001b[0m \u001b[0;30;48;2;155;246;255m50\u001b[0m \u001b[0;30;48;2;160;196;255m=\u001b[0m \u001b[0;30;48;2;189;178;255m600\u001b[0m \u001b[0;30;48;2;255;198;225mde\u001b[0m \u001b[0;30;48;2;255;255;252mf\u001b[0m \u001b[0;30;48;2;255;173;173mgreet\u001b[0m \u001b[0;30;48;2;255;214;165m()\u001b[0m \u001b[0;30;48;2;253;255;182m:\u001b[0m \u001b[0;30;48;2;253;255;182mwhile\u001b[0m \u001b[0;30;48;2;202;255;191mTrue\u001b[0m \u001b[0;30;48;2;155;246;255m:\u001b[0m \u001b[0;30;48;2;160;196;255mprint\u001b[0m \u001b[0;30;48;2;189;178;255m(\u001b[0m \u001b[0;30;48;2;255;198;225m\"\u001b[0m \u001b[0;30;48;2;255;255;252mH\u001b[0m \u001b[0;30;48;2;255;173;173mello\u001b[0m \u001b[0;30;48;2;255;214;165mWorld\u001b[0m \u001b[0;30;48;2;253;255;182m!\"\u001b[0m \u001b[0;30;48;2;253;255;182m)\u001b[0m \u001b[0;30;48;2;202;255;191m\u001b[0m \u001b[0;30;48;2;155;246;255m</s>\u001b[0m "
          ]
        }
      ]
    },
    {
      "cell_type": "code",
      "source": [
        "# The official is `tiktoken` but this the same tokenizer on the HF platform\n",
        "show_tokens(text, \"Xenova/gpt-4\")"
      ],
      "metadata": {
        "colab": {
          "base_uri": "https://localhost:8080/"
        },
        "id": "XFF0eWlc2nWZ",
        "outputId": "d05123fc-984d-45f9-bb75-92ed04947f32"
      },
      "execution_count": 110,
      "outputs": [
        {
          "output_type": "stream",
          "name": "stdout",
          "text": [
            "\u001b[0;30;48;2;255;173;173m\n",
            "\u001b[0m \u001b[0;30;48;2;255;214;165mEnglish\u001b[0m \u001b[0;30;48;2;253;255;182m and\u001b[0m \u001b[0;30;48;2;253;255;182m CAPITAL\u001b[0m \u001b[0;30;48;2;202;255;191mIZATION\u001b[0m \u001b[0;30;48;2;155;246;255m\n",
            "\u001b[0m \u001b[0;30;48;2;160;196;255m�\u001b[0m \u001b[0;30;48;2;189;178;255m�\u001b[0m \u001b[0;30;48;2;255;198;225m�\u001b[0m \u001b[0;30;48;2;255;255;252m �\u001b[0m \u001b[0;30;48;2;255;173;173m�\u001b[0m \u001b[0;30;48;2;255;214;165m模\u001b[0m \u001b[0;30;48;2;253;255;182m型\u001b[0m \u001b[0;30;48;2;253;255;182m�\u001b[0m \u001b[0;30;48;2;202;255;191m�\u001b[0m \u001b[0;30;48;2;155;246;255m言\u001b[0m \u001b[0;30;48;2;160;196;255m\n",
            "\u001b[0m \u001b[0;30;48;2;189;178;255mshow\u001b[0m \u001b[0;30;48;2;255;198;225m_tokens\u001b[0m \u001b[0;30;48;2;255;255;252m False\u001b[0m \u001b[0;30;48;2;255;173;173m None\u001b[0m \u001b[0;30;48;2;255;214;165m elif\u001b[0m \u001b[0;30;48;2;253;255;182m ==\u001b[0m \u001b[0;30;48;2;253;255;182m >=\u001b[0m \u001b[0;30;48;2;202;255;191m else\u001b[0m \u001b[0;30;48;2;155;246;255m:\u001b[0m \u001b[0;30;48;2;160;196;255m two\u001b[0m \u001b[0;30;48;2;189;178;255m tabs\u001b[0m \u001b[0;30;48;2;255;198;225m:\"\u001b[0m \u001b[0;30;48;2;255;255;252m   \u001b[0m \u001b[0;30;48;2;255;173;173m \"\u001b[0m \u001b[0;30;48;2;255;214;165m Three\u001b[0m \u001b[0;30;48;2;253;255;182m tabs\u001b[0m \u001b[0;30;48;2;253;255;182m:\u001b[0m \u001b[0;30;48;2;202;255;191m \"\u001b[0m \u001b[0;30;48;2;155;246;255m      \u001b[0m \u001b[0;30;48;2;160;196;255m \"\n",
            "\u001b[0m \u001b[0;30;48;2;189;178;255m12\u001b[0m \u001b[0;30;48;2;255;198;225m.\u001b[0m \u001b[0;30;48;2;255;255;252m0\u001b[0m \u001b[0;30;48;2;255;173;173m*\u001b[0m \u001b[0;30;48;2;255;214;165m50\u001b[0m \u001b[0;30;48;2;253;255;182m=\u001b[0m \u001b[0;30;48;2;253;255;182m600\u001b[0m \u001b[0;30;48;2;202;255;191m\n",
            "\n",
            "\u001b[0m \u001b[0;30;48;2;155;246;255mdef\u001b[0m \u001b[0;30;48;2;160;196;255m greet\u001b[0m \u001b[0;30;48;2;189;178;255m():\n",
            "\u001b[0m \u001b[0;30;48;2;255;198;225m \u001b[0m \u001b[0;30;48;2;255;255;252m while\u001b[0m \u001b[0;30;48;2;255;173;173m True\u001b[0m \u001b[0;30;48;2;255;214;165m:\n",
            "\u001b[0m \u001b[0;30;48;2;253;255;182m   \u001b[0m \u001b[0;30;48;2;253;255;182m print\u001b[0m \u001b[0;30;48;2;202;255;191m(\"\u001b[0m \u001b[0;30;48;2;155;246;255mHello\u001b[0m \u001b[0;30;48;2;160;196;255m World\u001b[0m \u001b[0;30;48;2;189;178;255m!\")\n",
            "\u001b[0m "
          ]
        }
      ]
    },
    {
      "cell_type": "code",
      "source": [
        "# You need to request access before being able to use this tokenizer\n",
        "show_tokens(text, \"bigcode/starcoder2-15b\")"
      ],
      "metadata": {
        "colab": {
          "base_uri": "https://localhost:8080/"
        },
        "id": "YmzN5U2D3Qa6",
        "outputId": "523b291a-47bf-4940-fc86-b34b6f655375"
      },
      "execution_count": 111,
      "outputs": [
        {
          "output_type": "stream",
          "name": "stdout",
          "text": [
            "\u001b[0;30;48;2;255;173;173m\n",
            "\u001b[0m \u001b[0;30;48;2;255;214;165mEnglish\u001b[0m \u001b[0;30;48;2;253;255;182m and\u001b[0m \u001b[0;30;48;2;253;255;182m CAPITAL\u001b[0m \u001b[0;30;48;2;202;255;191mIZATION\u001b[0m \u001b[0;30;48;2;155;246;255m\n",
            "\u001b[0m \u001b[0;30;48;2;160;196;255m�\u001b[0m \u001b[0;30;48;2;189;178;255m�\u001b[0m \u001b[0;30;48;2;255;198;225m�\u001b[0m \u001b[0;30;48;2;255;255;252m 大\u001b[0m \u001b[0;30;48;2;255;173;173m模型\u001b[0m \u001b[0;30;48;2;255;214;165m語\u001b[0m \u001b[0;30;48;2;253;255;182m言\u001b[0m \u001b[0;30;48;2;253;255;182m\n",
            "\u001b[0m \u001b[0;30;48;2;202;255;191mshow\u001b[0m \u001b[0;30;48;2;155;246;255m_\u001b[0m \u001b[0;30;48;2;160;196;255mtokens\u001b[0m \u001b[0;30;48;2;189;178;255m False\u001b[0m \u001b[0;30;48;2;255;198;225m None\u001b[0m \u001b[0;30;48;2;255;255;252m elif\u001b[0m \u001b[0;30;48;2;255;173;173m ==\u001b[0m \u001b[0;30;48;2;255;214;165m >=\u001b[0m \u001b[0;30;48;2;253;255;182m else\u001b[0m \u001b[0;30;48;2;253;255;182m:\u001b[0m \u001b[0;30;48;2;202;255;191m two\u001b[0m \u001b[0;30;48;2;155;246;255m tabs\u001b[0m \u001b[0;30;48;2;160;196;255m:\"\u001b[0m \u001b[0;30;48;2;189;178;255m   \u001b[0m \u001b[0;30;48;2;255;198;225m \"\u001b[0m \u001b[0;30;48;2;255;255;252m Three\u001b[0m \u001b[0;30;48;2;255;173;173m tabs\u001b[0m \u001b[0;30;48;2;255;214;165m:\u001b[0m \u001b[0;30;48;2;253;255;182m \"\u001b[0m \u001b[0;30;48;2;253;255;182m      \u001b[0m \u001b[0;30;48;2;202;255;191m \"\u001b[0m \u001b[0;30;48;2;155;246;255m\n",
            "\u001b[0m \u001b[0;30;48;2;160;196;255m1\u001b[0m \u001b[0;30;48;2;189;178;255m2\u001b[0m \u001b[0;30;48;2;255;198;225m.\u001b[0m \u001b[0;30;48;2;255;255;252m0\u001b[0m \u001b[0;30;48;2;255;173;173m*\u001b[0m \u001b[0;30;48;2;255;214;165m5\u001b[0m \u001b[0;30;48;2;253;255;182m0\u001b[0m \u001b[0;30;48;2;253;255;182m=\u001b[0m \u001b[0;30;48;2;202;255;191m6\u001b[0m \u001b[0;30;48;2;155;246;255m0\u001b[0m \u001b[0;30;48;2;160;196;255m0\u001b[0m \u001b[0;30;48;2;189;178;255m\n",
            "\u001b[0m \u001b[0;30;48;2;255;198;225m\n",
            "\u001b[0m \u001b[0;30;48;2;255;255;252mdef\u001b[0m \u001b[0;30;48;2;255;173;173m g\u001b[0m \u001b[0;30;48;2;255;214;165mreet\u001b[0m \u001b[0;30;48;2;253;255;182m():\u001b[0m \u001b[0;30;48;2;253;255;182m\n",
            " \u001b[0m \u001b[0;30;48;2;202;255;191m while\u001b[0m \u001b[0;30;48;2;155;246;255m True\u001b[0m \u001b[0;30;48;2;160;196;255m:\u001b[0m \u001b[0;30;48;2;189;178;255m\n",
            "   \u001b[0m \u001b[0;30;48;2;255;198;225m print\u001b[0m \u001b[0;30;48;2;255;255;252m(\"\u001b[0m \u001b[0;30;48;2;255;173;173mHello\u001b[0m \u001b[0;30;48;2;255;214;165m World\u001b[0m \u001b[0;30;48;2;253;255;182m!\")\u001b[0m \u001b[0;30;48;2;253;255;182m\n",
            "\u001b[0m "
          ]
        }
      ]
    },
    {
      "cell_type": "code",
      "source": [
        "show_tokens(text, \"facebook/galactica-1.3b\")"
      ],
      "metadata": {
        "colab": {
          "base_uri": "https://localhost:8080/"
        },
        "id": "PGBA7BRN3VV5",
        "outputId": "8bc8cde0-aaca-4471-bcd9-5d2739934d33"
      },
      "execution_count": 112,
      "outputs": [
        {
          "output_type": "stream",
          "name": "stdout",
          "text": [
            "\u001b[0;30;48;2;255;173;173m\n",
            "\u001b[0m \u001b[0;30;48;2;255;214;165mEnglish\u001b[0m \u001b[0;30;48;2;253;255;182m and\u001b[0m \u001b[0;30;48;2;253;255;182m CAP\u001b[0m \u001b[0;30;48;2;202;255;191mITAL\u001b[0m \u001b[0;30;48;2;155;246;255mIZATION\u001b[0m \u001b[0;30;48;2;160;196;255m\n",
            "\u001b[0m \u001b[0;30;48;2;189;178;255m�\u001b[0m \u001b[0;30;48;2;255;198;225m�\u001b[0m \u001b[0;30;48;2;255;255;252m�\u001b[0m \u001b[0;30;48;2;255;173;173m�\u001b[0m \u001b[0;30;48;2;255;214;165m �\u001b[0m \u001b[0;30;48;2;253;255;182m�\u001b[0m \u001b[0;30;48;2;253;255;182m�\u001b[0m \u001b[0;30;48;2;202;255;191m�\u001b[0m \u001b[0;30;48;2;155;246;255m�\u001b[0m \u001b[0;30;48;2;160;196;255m�\u001b[0m \u001b[0;30;48;2;189;178;255m�\u001b[0m \u001b[0;30;48;2;255;198;225m�\u001b[0m \u001b[0;30;48;2;255;255;252m�\u001b[0m \u001b[0;30;48;2;255;173;173m�\u001b[0m \u001b[0;30;48;2;255;214;165m�\u001b[0m \u001b[0;30;48;2;253;255;182m�\u001b[0m \u001b[0;30;48;2;253;255;182m�\u001b[0m \u001b[0;30;48;2;202;255;191m�\u001b[0m \u001b[0;30;48;2;155;246;255m�\u001b[0m \u001b[0;30;48;2;160;196;255m\n",
            "\u001b[0m \u001b[0;30;48;2;189;178;255mshow\u001b[0m \u001b[0;30;48;2;255;198;225m_\u001b[0m \u001b[0;30;48;2;255;255;252mtokens\u001b[0m \u001b[0;30;48;2;255;173;173m False\u001b[0m \u001b[0;30;48;2;255;214;165m None\u001b[0m \u001b[0;30;48;2;253;255;182m elif\u001b[0m \u001b[0;30;48;2;253;255;182m \u001b[0m \u001b[0;30;48;2;202;255;191m==\u001b[0m \u001b[0;30;48;2;155;246;255m \u001b[0m \u001b[0;30;48;2;160;196;255m>\u001b[0m \u001b[0;30;48;2;189;178;255m=\u001b[0m \u001b[0;30;48;2;255;198;225m else\u001b[0m \u001b[0;30;48;2;255;255;252m:\u001b[0m \u001b[0;30;48;2;255;173;173m two\u001b[0m \u001b[0;30;48;2;255;214;165m t\u001b[0m \u001b[0;30;48;2;253;255;182mabs\u001b[0m \u001b[0;30;48;2;253;255;182m:\u001b[0m \u001b[0;30;48;2;202;255;191m\"\u001b[0m \u001b[0;30;48;2;155;246;255m    \u001b[0m \u001b[0;30;48;2;160;196;255m\"\u001b[0m \u001b[0;30;48;2;189;178;255m Three\u001b[0m \u001b[0;30;48;2;255;198;225m t\u001b[0m \u001b[0;30;48;2;255;255;252mabs\u001b[0m \u001b[0;30;48;2;255;173;173m:\u001b[0m \u001b[0;30;48;2;255;214;165m \u001b[0m \u001b[0;30;48;2;253;255;182m\"\u001b[0m \u001b[0;30;48;2;253;255;182m       \u001b[0m \u001b[0;30;48;2;202;255;191m\"\u001b[0m \u001b[0;30;48;2;155;246;255m\n",
            "\u001b[0m \u001b[0;30;48;2;160;196;255m1\u001b[0m \u001b[0;30;48;2;189;178;255m2\u001b[0m \u001b[0;30;48;2;255;198;225m.\u001b[0m \u001b[0;30;48;2;255;255;252m0\u001b[0m \u001b[0;30;48;2;255;173;173m*\u001b[0m \u001b[0;30;48;2;255;214;165m5\u001b[0m \u001b[0;30;48;2;253;255;182m0\u001b[0m \u001b[0;30;48;2;253;255;182m=\u001b[0m \u001b[0;30;48;2;202;255;191m6\u001b[0m \u001b[0;30;48;2;155;246;255m0\u001b[0m \u001b[0;30;48;2;160;196;255m0\u001b[0m \u001b[0;30;48;2;189;178;255m\n",
            "\u001b[0m \u001b[0;30;48;2;255;198;225m\n",
            "\u001b[0m \u001b[0;30;48;2;255;255;252mdef\u001b[0m \u001b[0;30;48;2;255;173;173m gre\u001b[0m \u001b[0;30;48;2;255;214;165met\u001b[0m \u001b[0;30;48;2;253;255;182m(\u001b[0m \u001b[0;30;48;2;253;255;182m)\u001b[0m \u001b[0;30;48;2;202;255;191m:\u001b[0m \u001b[0;30;48;2;155;246;255m\n",
            "\u001b[0m \u001b[0;30;48;2;160;196;255m \u001b[0m \u001b[0;30;48;2;189;178;255m while\u001b[0m \u001b[0;30;48;2;255;198;225m True\u001b[0m \u001b[0;30;48;2;255;255;252m:\u001b[0m \u001b[0;30;48;2;255;173;173m\n",
            "\u001b[0m \u001b[0;30;48;2;255;214;165m   \u001b[0m \u001b[0;30;48;2;253;255;182m print\u001b[0m \u001b[0;30;48;2;253;255;182m(\u001b[0m \u001b[0;30;48;2;202;255;191m\"\u001b[0m \u001b[0;30;48;2;155;246;255mH\u001b[0m \u001b[0;30;48;2;160;196;255mello\u001b[0m \u001b[0;30;48;2;189;178;255m World\u001b[0m \u001b[0;30;48;2;255;198;225m!\u001b[0m \u001b[0;30;48;2;255;255;252m\"\u001b[0m \u001b[0;30;48;2;255;173;173m)\u001b[0m \u001b[0;30;48;2;255;214;165m\n",
            "\u001b[0m "
          ]
        }
      ]
    },
    {
      "cell_type": "code",
      "source": [
        "show_tokens(text, \"microsoft/Phi-3-mini-4k-instruct\")"
      ],
      "metadata": {
        "colab": {
          "base_uri": "https://localhost:8080/"
        },
        "id": "aSjf5Ccx3VGx",
        "outputId": "f5bcaa58-92eb-475a-cf23-6047a66e09df"
      },
      "execution_count": 113,
      "outputs": [
        {
          "output_type": "stream",
          "name": "stdout",
          "text": [
            "\u001b[0;30;48;2;255;173;173m\u001b[0m \u001b[0;30;48;2;255;214;165m\n",
            "\u001b[0m \u001b[0;30;48;2;253;255;182mEnglish\u001b[0m \u001b[0;30;48;2;253;255;182mand\u001b[0m \u001b[0;30;48;2;202;255;191mC\u001b[0m \u001b[0;30;48;2;155;246;255mAP\u001b[0m \u001b[0;30;48;2;160;196;255mIT\u001b[0m \u001b[0;30;48;2;189;178;255mAL\u001b[0m \u001b[0;30;48;2;255;198;225mIZ\u001b[0m \u001b[0;30;48;2;255;255;252mATION\u001b[0m \u001b[0;30;48;2;255;173;173m\n",
            "\u001b[0m \u001b[0;30;48;2;255;214;165m�\u001b[0m \u001b[0;30;48;2;253;255;182m�\u001b[0m \u001b[0;30;48;2;253;255;182m�\u001b[0m \u001b[0;30;48;2;202;255;191m�\u001b[0m \u001b[0;30;48;2;155;246;255m\u001b[0m \u001b[0;30;48;2;160;196;255m大\u001b[0m \u001b[0;30;48;2;189;178;255m模\u001b[0m \u001b[0;30;48;2;255;198;225m型\u001b[0m \u001b[0;30;48;2;255;255;252m語\u001b[0m \u001b[0;30;48;2;255;173;173m言\u001b[0m \u001b[0;30;48;2;255;214;165m\n",
            "\u001b[0m \u001b[0;30;48;2;253;255;182mshow\u001b[0m \u001b[0;30;48;2;253;255;182m_\u001b[0m \u001b[0;30;48;2;202;255;191mto\u001b[0m \u001b[0;30;48;2;155;246;255mkens\u001b[0m \u001b[0;30;48;2;160;196;255mFalse\u001b[0m \u001b[0;30;48;2;189;178;255mNone\u001b[0m \u001b[0;30;48;2;255;198;225melif\u001b[0m \u001b[0;30;48;2;255;255;252m==\u001b[0m \u001b[0;30;48;2;255;173;173m>=\u001b[0m \u001b[0;30;48;2;255;214;165melse\u001b[0m \u001b[0;30;48;2;253;255;182m:\u001b[0m \u001b[0;30;48;2;253;255;182mtwo\u001b[0m \u001b[0;30;48;2;202;255;191mtabs\u001b[0m \u001b[0;30;48;2;155;246;255m:\"\u001b[0m \u001b[0;30;48;2;160;196;255m  \u001b[0m \u001b[0;30;48;2;189;178;255m\"\u001b[0m \u001b[0;30;48;2;255;198;225mThree\u001b[0m \u001b[0;30;48;2;255;255;252mtabs\u001b[0m \u001b[0;30;48;2;255;173;173m:\u001b[0m \u001b[0;30;48;2;255;214;165m\"\u001b[0m \u001b[0;30;48;2;253;255;182m     \u001b[0m \u001b[0;30;48;2;253;255;182m\"\u001b[0m \u001b[0;30;48;2;202;255;191m\n",
            "\u001b[0m \u001b[0;30;48;2;155;246;255m1\u001b[0m \u001b[0;30;48;2;160;196;255m2\u001b[0m \u001b[0;30;48;2;189;178;255m.\u001b[0m \u001b[0;30;48;2;255;198;225m0\u001b[0m \u001b[0;30;48;2;255;255;252m*\u001b[0m \u001b[0;30;48;2;255;173;173m5\u001b[0m \u001b[0;30;48;2;255;214;165m0\u001b[0m \u001b[0;30;48;2;253;255;182m=\u001b[0m \u001b[0;30;48;2;253;255;182m6\u001b[0m \u001b[0;30;48;2;202;255;191m0\u001b[0m \u001b[0;30;48;2;155;246;255m0\u001b[0m \u001b[0;30;48;2;160;196;255m\n",
            "\u001b[0m \u001b[0;30;48;2;189;178;255m\n",
            "\u001b[0m \u001b[0;30;48;2;255;198;225mdef\u001b[0m \u001b[0;30;48;2;255;255;252mgre\u001b[0m \u001b[0;30;48;2;255;173;173met\u001b[0m \u001b[0;30;48;2;255;214;165m():\u001b[0m \u001b[0;30;48;2;253;255;182m\n",
            "\u001b[0m \u001b[0;30;48;2;253;255;182m\u001b[0m \u001b[0;30;48;2;202;255;191mwhile\u001b[0m \u001b[0;30;48;2;155;246;255mTrue\u001b[0m \u001b[0;30;48;2;160;196;255m:\u001b[0m \u001b[0;30;48;2;189;178;255m\n",
            "\u001b[0m \u001b[0;30;48;2;255;198;225m  \u001b[0m \u001b[0;30;48;2;255;255;252mprint\u001b[0m \u001b[0;30;48;2;255;173;173m(\"\u001b[0m \u001b[0;30;48;2;255;214;165mHello\u001b[0m \u001b[0;30;48;2;253;255;182mWorld\u001b[0m \u001b[0;30;48;2;253;255;182m!\u001b[0m \u001b[0;30;48;2;202;255;191m\")\u001b[0m \u001b[0;30;48;2;155;246;255m\n",
            "\u001b[0m "
          ]
        }
      ]
    },
    {
      "cell_type": "markdown",
      "source": [
        "# Dataset and DataLoader"
      ],
      "metadata": {
        "id": "hCs4Fbrwx02L"
      }
    },
    {
      "cell_type": "code",
      "source": [],
      "metadata": {
        "id": "uyElkZL1wXg7"
      },
      "execution_count": 83,
      "outputs": []
    }
  ]
}