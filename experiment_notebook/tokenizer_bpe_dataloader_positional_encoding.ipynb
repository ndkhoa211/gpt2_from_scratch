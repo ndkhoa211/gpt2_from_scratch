{
  "nbformat": 4,
  "nbformat_minor": 0,
  "metadata": {
    "colab": {
      "provenance": []
    },
    "kernelspec": {
      "name": "python3",
      "display_name": "Python 3"
    },
    "language_info": {
      "name": "python"
    }
  },
  "cells": [
    {
      "cell_type": "code",
      "execution_count": 1,
      "metadata": {
        "id": "PnfvmqxvfKqm",
        "colab": {
          "base_uri": "https://localhost:8080/"
        },
        "outputId": "b3a62996-6166-44af-eb55-5753469c1aae"
      },
      "outputs": [
        {
          "output_type": "stream",
          "name": "stdout",
          "text": [
            "Hello world!\n"
          ]
        }
      ],
      "source": [
        "print(\"Hello world!\")"
      ]
    },
    {
      "cell_type": "code",
      "source": [],
      "metadata": {
        "id": "4NzsXA_ff0cj"
      },
      "execution_count": null,
      "outputs": []
    }
  ]
}